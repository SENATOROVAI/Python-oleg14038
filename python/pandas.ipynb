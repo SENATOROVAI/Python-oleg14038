{
 "cells": [
  {
   "cell_type": "code",
   "execution_count": null,
   "metadata": {},
   "outputs": [],
   "source": [
    "import pandas as pd\n",
    "import numpy as np"
   ]
  },
  {
   "cell_type": "code",
   "execution_count": null,
   "metadata": {},
   "outputs": [],
   "source": [
    "obj = pd.Series([1, 2, 3], index=['a','b','c'], dtype='int8') # int64 принемает  ``-9_223_372_036_854_775_808`` to ``9_223_372_036_854_775_807``\n",
    "\n",
    "# int8 ``-128`` to ``127``\n",
    "# np.info(\"int8\") \n",
    "obj.nbytes\n",
    " # размер объекта, RAM\n",
    "# obj? # интроспекция, сигнатура функции\n",
    "\n",
    "obj['a'] = 2\n",
    "obj[obj < 3] # filter\n",
    "\n"
   ]
  },
  {
   "cell_type": "code",
   "execution_count": null,
   "metadata": {},
   "outputs": [],
   "source": [
    "obj * 5 # поведение как у вектора\n",
    "# [1, 2, 3] * 5 \n",
    "\"a\" in obj\n"
   ]
  },
  {
   "cell_type": "code",
   "execution_count": null,
   "metadata": {},
   "outputs": [],
   "source": [
    "\n",
    "# list1 = ['a','b']\n",
    "dict_date = {\"name\": \"oleg\", 'age': 30}\n",
    "obj_2 = pd.Series(dict_date)\n",
    "\n",
    "# pd.isna(obj_2) # Чек Nane \n",
    "obj_2.isna() # Чек Nane \n",
    "obj_2 + obj\n"
   ]
  },
  {
   "cell_type": "code",
   "execution_count": null,
   "metadata": {},
   "outputs": [],
   "source": [
    "obj_2.name = \"SENATOROV\"\n",
    "obj_2"
   ]
  },
  {
   "cell_type": "code",
   "execution_count": null,
   "metadata": {},
   "outputs": [],
   "source": [
    "# DataFrame\n",
    "import pandas as pd\n",
    "import numpy as np\n",
    "data = {\"name\":[\"oleg\",\"Nefedov\"],\n",
    "\"age\": [30, \"May\"]\n",
    "}\n",
    "\n",
    "frame = pd.DataFrame(data)\n",
    "frame"
   ]
  },
  {
   "cell_type": "code",
   "execution_count": null,
   "metadata": {},
   "outputs": [],
   "source": [
    "df = pd.read_csv(\"https://raw.githubusercontent.com/Geoyi/Cleaning-Titanic-Data/master/titanic_original.csv\")\n",
    "df.head() # show 5 first row"
   ]
  },
  {
   "cell_type": "code",
   "execution_count": null,
   "metadata": {},
   "outputs": [],
   "source": [
    "df.tail() # show 5 end row"
   ]
  },
  {
   "cell_type": "code",
   "execution_count": null,
   "metadata": {},
   "outputs": [],
   "source": [
    "df[[\"survived\",\"age\",\"sex\"]]\n",
    "df = df.loc[1]\n",
    "df[\"name\"] = \"SENATOROV\"\n",
    "df = df.loc[df.index]\n",
    "df\n",
    " df.loc[1] # вывели 1 index(row) in table"
   ]
  },
  {
   "cell_type": "code",
   "execution_count": null,
   "metadata": {},
   "outputs": [],
   "source": [
    "df"
   ]
  },
  {
   "cell_type": "markdown",
   "metadata": {},
   "source": [
    "<img src=\"https://pandas.pydata.org/pandas-docs/stable/_images/03_subset_columns.svg\">"
   ]
  },
  {
   "cell_type": "code",
   "execution_count": null,
   "metadata": {},
   "outputs": [],
   "source": [
    "# np.info(\"int8\") \n",
    "obj?\n",
    "\n",
    "help(pd.Series)"
   ]
  },
  {
   "cell_type": "code",
   "execution_count": null,
   "metadata": {},
   "outputs": [],
   "source": [
    "#!pip install pandas"
   ]
  },
  {
   "cell_type": "code",
   "execution_count": null,
   "metadata": {},
   "outputs": [],
   "source": [
    "\n",
    "\n",
    "\n",
    "def createDataframe(student_data: List[List[int]]) -> pd.DataFrame:\n",
    "    \n",
    "    column_names = ['student_id', 'age'] # 3. 'column _ names = [' student _ id ',' age ']': \n",
    "                                         # Эта строка создает список под названием 'column _ names' с двумя строками: 'student _ id' и 'age'. \n",
    "                                        # Эти строки представляют имена столбцов в результирующем фрейме данны\n",
    "    result = pd.DataFrame(student_data, columns=column_names)\n",
    "    \n",
    "    return result\n",
    "    \n",
    "# 1 pd.DataFrame(): Это конструктор, предоставляемый библиотекой Pandas для создания объекта DataFrame. \n",
    "# Он используется для создания фрейма данных из заданных данных и имен столбцов.\n",
    "\n",
    "# 2 student_data: Это первый параметр, передаваемый конструктору pd.DataFrame(). \n",
    "# Он представляет данные, которые будут использоваться для заполнения фрейма данных. \n",
    "# В данном случае student_data - это список списков, где каждый внутренний список представляет собой строку данных.\n",
    "\n",
    "#2.1 columns: Это параметр конструктора pd.DataFrame() в Pandas. Он используется для указания имен столбцов в создаваемом фрейме данных.\n",
    "\n",
    "#2.2 column_names: Это переменная, которая содержит список имен столбцов во фрейме данных.\n",
    "#  Она используется в качестве значения параметра columns.\n",
    "\n",
    "#3 Таким образом, код result = pd.DataFrame(student_data, columns=column_names) создает объект Pandas DataFrame с именем result, заполняя его данными из списка student_data и используя список column_names для указания имен столбцов. Результирующий фрейм данных будет содержать столбцы студенческого билета и возраста, как указано в списке column_names.\n",
    "\n",
    "\n",
    "\n",
    "\n",
    "\n",
    "\n",
    "\n",
    "\n",
    "\n"
   ]
  },
  {
   "cell_type": "code",
   "execution_count": null,
   "metadata": {},
   "outputs": [],
   "source": [
    "# https://leetcode.com/problems/get-the-size-of-a-dataframe/solutions/4135715/1-line-code-simple-code-use-shape-property/?envType=study-plan-v2&envId=introduction-to-pandas&lang=pythondata\n",
    "import pandas as pd\n",
    "\n",
    "def getDataframeSize(players: pd.DataFrame) -> List[int]:\n",
    "    return [players.shape[0], players.shape[1]]# 1. Используя индексацию [0] и [1], извлеките количество строк и столбцов соответственно:\n",
    "    # Это создает список с количеством строк во фрейме данных в качестве первого элемента и количеством столбцов в качестве второго элемента.\n",
    "    # OR\n",
    "    return list(players.shape)# Преобразование кортежа фигур непосредственно в список\n",
    "                              # Это преобразует кортеж фигур в список, который будет иметь ту же структуру: [количество строк, количество столбцов].\n",
    "\n",
    "\n",
    "# Этот код определяет функцию с именем getDataframeSize, которая принимает в качестве параметра объект DataFrame панды, называемый players. \n",
    "# Функция возвращает список из двух целых чисел: количество строк (ось 0) и количество столбцов (ось 1) в DataFrame.\n",
    "\n",
    "# Атрибут shape в pandas возвращает кортеж, содержащий размеры DataFrame, где первый элемент представляет количество строк, \n",
    "# а второй элемент представляет количество столбцов."
   ]
  },
  {
   "cell_type": "code",
   "execution_count": null,
   "metadata": {},
   "outputs": [],
   "source": [
    "import pandas as pd\n",
    "\n",
    "def selectFirstRows(employees: pd.DataFrame) -> pd.DataFrame:\n",
    "    return employees.head(3) # `return employees.head(3)` - это операция, которая вызывает метод `head(3)` на объекте DataFrame `employees` и возвращает новый DataFrame, содержащий первые три строки исходного DataFrame."
   ]
  },
  {
   "cell_type": "code",
   "execution_count": null,
   "metadata": {},
   "outputs": [],
   "source": []
  }
 ],
 "metadata": {
  "kernelspec": {
   "display_name": "Python 3",
   "language": "python",
   "name": "python3"
  },
  "language_info": {
   "codemirror_mode": {
    "name": "ipython",
    "version": 3
   },
   "file_extension": ".py",
   "mimetype": "text/x-python",
   "name": "python",
   "nbconvert_exporter": "python",
   "pygments_lexer": "ipython3",
   "version": "3.11.8"
  }
 },
 "nbformat": 4,
 "nbformat_minor": 2
}
