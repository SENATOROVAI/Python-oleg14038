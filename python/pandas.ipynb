{
 "cells": [
  {
   "cell_type": "code",
   "execution_count": 17,
   "metadata": {},
   "outputs": [],
   "source": [
    "import pandas as pd\n",
    "import numpy as np"
   ]
  },
  {
   "cell_type": "code",
   "execution_count": 49,
   "metadata": {},
   "outputs": [
    {
     "data": {
      "text/plain": [
       "a    2\n",
       "b    2\n",
       "dtype: int8"
      ]
     },
     "execution_count": 49,
     "metadata": {},
     "output_type": "execute_result"
    }
   ],
   "source": [
    "obj = pd.Series([1, 2, 3], index=['a','b','c'], dtype='int8') # int64 принемает  ``-9_223_372_036_854_775_808`` to ``9_223_372_036_854_775_807``\n",
    "\n",
    "# int8 ``-128`` to ``127``\n",
    "# np.info(\"int8\") \n",
    "obj.nbytes\n",
    " # размер объекта, RAM\n",
    "# obj? # интроспекция, сигнатура функции\n",
    "\n",
    "obj['a'] = 2\n",
    "obj[obj < 3] # filter\n",
    "\n"
   ]
  },
  {
   "cell_type": "code",
   "execution_count": 19,
   "metadata": {},
   "outputs": [
    {
     "data": {
      "text/plain": [
       "True"
      ]
     },
     "execution_count": 19,
     "metadata": {},
     "output_type": "execute_result"
    }
   ],
   "source": [
    "obj * 5 # поведение как у вектора\n",
    "# [1, 2, 3] * 5 \n",
    "\"a\" in obj\n"
   ]
  },
  {
   "cell_type": "code",
   "execution_count": 20,
   "metadata": {},
   "outputs": [
    {
     "data": {
      "text/plain": [
       "a       NaN\n",
       "age     NaN\n",
       "b       NaN\n",
       "c       NaN\n",
       "name    NaN\n",
       "dtype: object"
      ]
     },
     "execution_count": 20,
     "metadata": {},
     "output_type": "execute_result"
    }
   ],
   "source": [
    "\n",
    "# list1 = ['a','b']\n",
    "dict_date = {\"name\": \"oleg\", 'age': 30}\n",
    "obj_2 = pd.Series(dict_date)\n",
    "\n",
    "# pd.isna(obj_2) # Чек Nane \n",
    "obj_2.isna() # Чек Nane \n",
    "obj_2 + obj\n"
   ]
  },
  {
   "cell_type": "code",
   "execution_count": 21,
   "metadata": {},
   "outputs": [
    {
     "data": {
      "text/plain": [
       "name    oleg\n",
       "age       30\n",
       "Name: SENATOROV, dtype: object"
      ]
     },
     "execution_count": 21,
     "metadata": {},
     "output_type": "execute_result"
    }
   ],
   "source": [
    "obj_2.name = \"SENATOROV\"\n",
    "obj_2"
   ]
  },
  {
   "cell_type": "code",
   "execution_count": 22,
   "metadata": {},
   "outputs": [
    {
     "data": {
      "text/html": [
       "<div>\n",
       "<style scoped>\n",
       "    .dataframe tbody tr th:only-of-type {\n",
       "        vertical-align: middle;\n",
       "    }\n",
       "\n",
       "    .dataframe tbody tr th {\n",
       "        vertical-align: top;\n",
       "    }\n",
       "\n",
       "    .dataframe thead th {\n",
       "        text-align: right;\n",
       "    }\n",
       "</style>\n",
       "<table border=\"1\" class=\"dataframe\">\n",
       "  <thead>\n",
       "    <tr style=\"text-align: right;\">\n",
       "      <th></th>\n",
       "      <th>name</th>\n",
       "      <th>age</th>\n",
       "    </tr>\n",
       "  </thead>\n",
       "  <tbody>\n",
       "    <tr>\n",
       "      <th>0</th>\n",
       "      <td>oleg</td>\n",
       "      <td>30</td>\n",
       "    </tr>\n",
       "    <tr>\n",
       "      <th>1</th>\n",
       "      <td>Nefedov</td>\n",
       "      <td>May</td>\n",
       "    </tr>\n",
       "  </tbody>\n",
       "</table>\n",
       "</div>"
      ],
      "text/plain": [
       "      name  age\n",
       "0     oleg   30\n",
       "1  Nefedov  May"
      ]
     },
     "execution_count": 22,
     "metadata": {},
     "output_type": "execute_result"
    }
   ],
   "source": [
    "# DataFrame\n",
    "\n",
    "data = {\"name\":[\"oleg\",\"Nefedov\"],\n",
    "\"age\": [30, \"May\"]\n",
    "}\n",
    "\n",
    "frame = pd.DataFrame(data)\n",
    "frame"
   ]
  },
  {
   "cell_type": "code",
   "execution_count": null,
   "metadata": {},
   "outputs": [],
   "source": [
    "df = pd.read_csv(\"https://raw.githubusercontent.com/Geoyi/Cleaning-Titanic-Data/master/titanic_original.csv\")\n",
    "df.head() # show 5 first row"
   ]
  },
  {
   "cell_type": "code",
   "execution_count": null,
   "metadata": {},
   "outputs": [],
   "source": [
    "df.tail() # show 5 end row"
   ]
  },
  {
   "cell_type": "code",
   "execution_count": 25,
   "metadata": {},
   "outputs": [
    {
     "data": {
      "text/plain": [
       "pclass                                   1.0\n",
       "survived                                 1.0\n",
       "name                               SENATOROV\n",
       "sex                                     male\n",
       "age                                   0.9167\n",
       "sibsp                                    1.0\n",
       "parch                                    2.0\n",
       "ticket                                113781\n",
       "fare                                  151.55\n",
       "cabin                                C22 C26\n",
       "embarked                                   S\n",
       "boat                                      11\n",
       "body                                     NaN\n",
       "home.dest    Montreal, PQ / Chesterville, ON\n",
       "Name: 1, dtype: object"
      ]
     },
     "execution_count": 25,
     "metadata": {},
     "output_type": "execute_result"
    }
   ],
   "source": [
    "# df[[\"survived\",\"age\",\"sex\"]]\n",
    "df = df.loc[1]\n",
    "df[\"name\"] = \"SENATOROV\"\n",
    "df = df.loc[df.index]\n",
    "df\n",
    "# df.loc[1] # вывели 1 index(row) in table"
   ]
  },
  {
   "cell_type": "code",
   "execution_count": null,
   "metadata": {},
   "outputs": [],
   "source": [
    "df"
   ]
  },
  {
   "cell_type": "markdown",
   "metadata": {},
   "source": [
    "<img src=\"https://pandas.pydata.org/pandas-docs/stable/_images/03_subset_columns.svg\">"
   ]
  },
  {
   "cell_type": "code",
   "execution_count": null,
   "metadata": {},
   "outputs": [],
   "source": [
    "# np.info(\"int8\") \n",
    "obj?\n",
    "\n",
    "help(pd.Series)"
   ]
  },
  {
   "cell_type": "code",
   "execution_count": null,
   "metadata": {},
   "outputs": [],
   "source": [
    "!pip install pandas"
   ]
  },
  {
   "cell_type": "code",
   "execution_count": 95,
   "metadata": {},
   "outputs": [],
   "source": [
    "\n",
    "\n",
    "\n",
    "def createDataframe(student_data: List[List[int]]) -> pd.DataFrame:\n",
    "    \n",
    "    column_names = ['student_id', 'age'] # 3. 'column _ names = [' student _ id ',' age ']': \n",
    "                                         # Эта строка создает список под названием 'column _ names' с двумя строками: 'student _ id' и 'age'. \n",
    "                                        # Эти строки представляют имена столбцов в результирующем фрейме данны\n",
    "    result = pd.DataFrame(student_data, columns=column_names)\n",
    "    \n",
    "    return result\n",
    "    \n",
    "# 1 pd.DataFrame(): Это конструктор, предоставляемый библиотекой Pandas для создания объекта DataFrame. \n",
    "# Он используется для создания фрейма данных из заданных данных и имен столбцов.\n",
    "\n",
    "# 2 student_data: Это первый параметр, передаваемый конструктору pd.DataFrame(). \n",
    "# Он представляет данные, которые будут использоваться для заполнения фрейма данных. \n",
    "# В данном случае student_data - это список списков, где каждый внутренний список представляет собой строку данных.\n",
    "\n",
    "#2.1 columns: Это параметр конструктора pd.DataFrame() в Pandas. Он используется для указания имен столбцов в создаваемом фрейме данных.\n",
    "\n",
    "#2.2 column_names: Это переменная, которая содержит список имен столбцов во фрейме данных.\n",
    "#  Она используется в качестве значения параметра columns.\n",
    "\n",
    "#3 Таким образом, код result = pd.DataFrame(student_data, columns=column_names) создает объект Pandas DataFrame с именем result, заполняя его данными из списка student_data и используя список column_names для указания имен столбцов. Результирующий фрейм данных будет содержать столбцы студенческого билета и возраста, как указано в списке column_names.\n",
    "\n",
    "\n",
    "\n",
    "\n",
    "\n",
    "\n",
    "\n",
    "\n",
    "\n"
   ]
  }
 ],
 "metadata": {
  "kernelspec": {
   "display_name": "Python 3",
   "language": "python",
   "name": "python3"
  },
  "language_info": {
   "codemirror_mode": {
    "name": "ipython",
    "version": 3
   },
   "file_extension": ".py",
   "mimetype": "text/x-python",
   "name": "python",
   "nbconvert_exporter": "python",
   "pygments_lexer": "ipython3",
   "version": "3.11.7"
  }
 },
 "nbformat": 4,
 "nbformat_minor": 2
}
