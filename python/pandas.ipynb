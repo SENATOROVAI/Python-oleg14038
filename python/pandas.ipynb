{
 "cells": [
  {
   "cell_type": "code",
   "execution_count": 28,
   "metadata": {},
   "outputs": [
    {
     "ename": "ModuleNotFoundError",
     "evalue": "No module named 'pandas'",
     "output_type": "error",
     "traceback": [
      "\u001b[1;31m---------------------------------------------------------------------------\u001b[0m",
      "\u001b[1;31mModuleNotFoundError\u001b[0m                       Traceback (most recent call last)",
      "Cell \u001b[1;32mIn[28], line 1\u001b[0m\n\u001b[1;32m----> 1\u001b[0m \u001b[38;5;28;01mimport\u001b[39;00m \u001b[38;5;21;01mpandas\u001b[39;00m \u001b[38;5;28;01mas\u001b[39;00m \u001b[38;5;21;01mpd\u001b[39;00m\n\u001b[0;32m      2\u001b[0m \u001b[38;5;28;01mimport\u001b[39;00m \u001b[38;5;21;01mnumpy\u001b[39;00m \u001b[38;5;28;01mas\u001b[39;00m \u001b[38;5;21;01mnp\u001b[39;00m\n",
      "\u001b[1;31mModuleNotFoundError\u001b[0m: No module named 'pandas'"
     ]
    }
   ],
   "source": [
    "import pandas as pd\n",
    "import numpy as np"
   ]
  },
  {
   "cell_type": "code",
   "execution_count": null,
   "metadata": {},
   "outputs": [
    {
     "data": {
      "text/plain": [
       "a    2\n",
       "b    2\n",
       "dtype: int8"
      ]
     },
     "execution_count": 49,
     "metadata": {},
     "output_type": "execute_result"
    }
   ],
   "source": [
    "obj = pd.Series([1, 2, 3], index=['a','b','c'], dtype='int8') # int64 принемает  ``-9_223_372_036_854_775_808`` to ``9_223_372_036_854_775_807``\n",
    "\n",
    "# int8 ``-128`` to ``127``\n",
    "# np.info(\"int8\") \n",
    "obj.nbytes\n",
    " # размер объекта, RAM\n",
    "# obj? # интроспекция, сигнатура функции\n",
    "\n",
    "obj['a'] = 2\n",
    "obj[obj < 3] # filter\n",
    "\n"
   ]
  },
  {
   "cell_type": "code",
   "execution_count": null,
   "metadata": {},
   "outputs": [
    {
     "data": {
      "text/plain": [
       "True"
      ]
     },
     "execution_count": 19,
     "metadata": {},
     "output_type": "execute_result"
    }
   ],
   "source": [
    "obj * 5 # поведение как у вектора\n",
    "# [1, 2, 3] * 5 \n",
    "\"a\" in obj\n"
   ]
  },
  {
   "cell_type": "code",
   "execution_count": null,
   "metadata": {},
   "outputs": [
    {
     "data": {
      "text/plain": [
       "a       NaN\n",
       "age     NaN\n",
       "b       NaN\n",
       "c       NaN\n",
       "name    NaN\n",
       "dtype: object"
      ]
     },
     "execution_count": 20,
     "metadata": {},
     "output_type": "execute_result"
    }
   ],
   "source": [
    "\n",
    "# list1 = ['a','b']\n",
    "dict_date = {\"name\": \"oleg\", 'age': 30}\n",
    "obj_2 = pd.Series(dict_date)\n",
    "\n",
    "# pd.isna(obj_2) # Чек Nane \n",
    "obj_2.isna() # Чек Nane \n",
    "obj_2 + obj\n"
   ]
  },
  {
   "cell_type": "code",
   "execution_count": null,
   "metadata": {},
   "outputs": [
    {
     "data": {
      "text/plain": [
       "name    oleg\n",
       "age       30\n",
       "Name: SENATOROV, dtype: object"
      ]
     },
     "execution_count": 21,
     "metadata": {},
     "output_type": "execute_result"
    }
   ],
   "source": [
    "obj_2.name = \"SENATOROV\"\n",
    "obj_2"
   ]
  },
  {
   "cell_type": "code",
   "execution_count": null,
   "metadata": {},
   "outputs": [
    {
     "ename": "ModuleNotFoundError",
     "evalue": "No module named 'pandas'",
     "output_type": "error",
     "traceback": [
      "\u001b[1;31m---------------------------------------------------------------------------\u001b[0m",
      "\u001b[1;31mModuleNotFoundError\u001b[0m                       Traceback (most recent call last)",
      "Cell \u001b[1;32mIn[17], line 2\u001b[0m\n\u001b[0;32m      1\u001b[0m \u001b[38;5;66;03m# DataFrame\u001b[39;00m\n\u001b[1;32m----> 2\u001b[0m \u001b[38;5;28;01mimport\u001b[39;00m \u001b[38;5;21;01mpandas\u001b[39;00m \u001b[38;5;28;01mas\u001b[39;00m \u001b[38;5;21;01mpd\u001b[39;00m\n\u001b[0;32m      3\u001b[0m \u001b[38;5;28;01mimport\u001b[39;00m \u001b[38;5;21;01mnumpy\u001b[39;00m \u001b[38;5;28;01mas\u001b[39;00m \u001b[38;5;21;01mnp\u001b[39;00m\n\u001b[0;32m      4\u001b[0m data \u001b[38;5;241m=\u001b[39m {\u001b[38;5;124m\"\u001b[39m\u001b[38;5;124mname\u001b[39m\u001b[38;5;124m\"\u001b[39m:[\u001b[38;5;124m\"\u001b[39m\u001b[38;5;124moleg\u001b[39m\u001b[38;5;124m\"\u001b[39m,\u001b[38;5;124m\"\u001b[39m\u001b[38;5;124mNefedov\u001b[39m\u001b[38;5;124m\"\u001b[39m],\n\u001b[0;32m      5\u001b[0m \u001b[38;5;124m\"\u001b[39m\u001b[38;5;124mage\u001b[39m\u001b[38;5;124m\"\u001b[39m: [\u001b[38;5;241m30\u001b[39m, \u001b[38;5;124m\"\u001b[39m\u001b[38;5;124mMay\u001b[39m\u001b[38;5;124m\"\u001b[39m]\n\u001b[0;32m      6\u001b[0m }\n",
      "\u001b[1;31mModuleNotFoundError\u001b[0m: No module named 'pandas'"
     ]
    }
   ],
   "source": [
    "# DataFrame\n",
    "import pandas as pd\n",
    "import numpy as np\n",
    "data = {\"name\":[\"oleg\",\"Nefedov\"],\n",
    "\"age\": [30, \"May\"]\n",
    "}\n",
    "\n",
    "frame = pd.DataFrame(data)\n",
    "frame"
   ]
  },
  {
   "cell_type": "code",
   "execution_count": null,
   "metadata": {},
   "outputs": [
    {
     "ename": "NameError",
     "evalue": "name 'pd' is not defined",
     "output_type": "error",
     "traceback": [
      "\u001b[1;31m---------------------------------------------------------------------------\u001b[0m",
      "\u001b[1;31mNameError\u001b[0m                                 Traceback (most recent call last)",
      "Cell \u001b[1;32mIn[10], line 1\u001b[0m\n\u001b[1;32m----> 1\u001b[0m df \u001b[38;5;241m=\u001b[39m \u001b[43mpd\u001b[49m\u001b[38;5;241m.\u001b[39mread_csv(\u001b[38;5;124m\"\u001b[39m\u001b[38;5;124mhttps://raw.githubusercontent.com/Geoyi/Cleaning-Titanic-Data/master/titanic_original.csv\u001b[39m\u001b[38;5;124m\"\u001b[39m)\n\u001b[0;32m      2\u001b[0m df\u001b[38;5;241m.\u001b[39mhead() \u001b[38;5;66;03m# show 5 first row\u001b[39;00m\n",
      "\u001b[1;31mNameError\u001b[0m: name 'pd' is not defined"
     ]
    }
   ],
   "source": [
    "df = pd.read_csv(\"https://raw.githubusercontent.com/Geoyi/Cleaning-Titanic-Data/master/titanic_original.csv\")\n",
    "df.head() # show 5 first row"
   ]
  },
  {
   "cell_type": "code",
   "execution_count": null,
   "metadata": {},
   "outputs": [
    {
     "ename": "NameError",
     "evalue": "name 'df' is not defined",
     "output_type": "error",
     "traceback": [
      "\u001b[1;31m---------------------------------------------------------------------------\u001b[0m",
      "\u001b[1;31mNameError\u001b[0m                                 Traceback (most recent call last)",
      "Cell \u001b[1;32mIn[2], line 1\u001b[0m\n\u001b[1;32m----> 1\u001b[0m \u001b[43mdf\u001b[49m\u001b[38;5;241m.\u001b[39mtail() \u001b[38;5;66;03m# show 5 end row\u001b[39;00m\n",
      "\u001b[1;31mNameError\u001b[0m: name 'df' is not defined"
     ]
    }
   ],
   "source": [
    "df.tail() # show 5 end row"
   ]
  },
  {
   "cell_type": "code",
   "execution_count": null,
   "metadata": {},
   "outputs": [
    {
     "ename": "IndentationError",
     "evalue": "unexpected indent (1142300319.py, line 6)",
     "output_type": "error",
     "traceback": [
      "\u001b[1;36m  Cell \u001b[1;32mIn[6], line 6\u001b[1;36m\u001b[0m\n\u001b[1;33m    df.loc[1] # вывели 1 index(row) in table\u001b[0m\n\u001b[1;37m    ^\u001b[0m\n\u001b[1;31mIndentationError\u001b[0m\u001b[1;31m:\u001b[0m unexpected indent\n"
     ]
    }
   ],
   "source": [
    "df[[\"survived\",\"age\",\"sex\"]]\n",
    "df = df.loc[1]\n",
    "df[\"name\"] = \"SENATOROV\"\n",
    "df = df.loc[df.index]\n",
    "df\n",
    " df.loc[1] # вывели 1 index(row) in table"
   ]
  },
  {
   "cell_type": "code",
   "execution_count": null,
   "metadata": {},
   "outputs": [],
   "source": [
    "df"
   ]
  },
  {
   "cell_type": "markdown",
   "metadata": {},
   "source": [
    "<img src=\"https://pandas.pydata.org/pandas-docs/stable/_images/03_subset_columns.svg\">"
   ]
  },
  {
   "cell_type": "code",
   "execution_count": null,
   "metadata": {},
   "outputs": [],
   "source": [
    "# np.info(\"int8\") \n",
    "obj?\n",
    "\n",
    "help(pd.Series)"
   ]
  },
  {
   "cell_type": "code",
   "execution_count": null,
   "metadata": {},
   "outputs": [],
   "source": [
    "!pip install pandas"
   ]
  },
  {
   "cell_type": "code",
   "execution_count": null,
   "metadata": {},
   "outputs": [],
   "source": [
    "\n",
    "\n",
    "\n",
    "def createDataframe(student_data: List[List[int]]) -> pd.DataFrame:\n",
    "    \n",
    "    column_names = ['student_id', 'age'] # 3. 'column _ names = [' student _ id ',' age ']': \n",
    "                                         # Эта строка создает список под названием 'column _ names' с двумя строками: 'student _ id' и 'age'. \n",
    "                                        # Эти строки представляют имена столбцов в результирующем фрейме данны\n",
    "    result = pd.DataFrame(student_data, columns=column_names)\n",
    "    \n",
    "    return result\n",
    "    \n",
    "# 1 pd.DataFrame(): Это конструктор, предоставляемый библиотекой Pandas для создания объекта DataFrame. \n",
    "# Он используется для создания фрейма данных из заданных данных и имен столбцов.\n",
    "\n",
    "# 2 student_data: Это первый параметр, передаваемый конструктору pd.DataFrame(). \n",
    "# Он представляет данные, которые будут использоваться для заполнения фрейма данных. \n",
    "# В данном случае student_data - это список списков, где каждый внутренний список представляет собой строку данных.\n",
    "\n",
    "#2.1 columns: Это параметр конструктора pd.DataFrame() в Pandas. Он используется для указания имен столбцов в создаваемом фрейме данных.\n",
    "\n",
    "#2.2 column_names: Это переменная, которая содержит список имен столбцов во фрейме данных.\n",
    "#  Она используется в качестве значения параметра columns.\n",
    "\n",
    "#3 Таким образом, код result = pd.DataFrame(student_data, columns=column_names) создает объект Pandas DataFrame с именем result, заполняя его данными из списка student_data и используя список column_names для указания имен столбцов. Результирующий фрейм данных будет содержать столбцы студенческого билета и возраста, как указано в списке column_names.\n",
    "\n",
    "\n",
    "\n",
    "\n",
    "\n",
    "\n",
    "\n",
    "\n",
    "\n"
   ]
  },
  {
   "cell_type": "code",
   "execution_count": null,
   "metadata": {},
   "outputs": [],
   "source": [
    "# https://leetcode.com/problems/get-the-size-of-a-dataframe/solutions/4135715/1-line-code-simple-code-use-shape-property/?envType=study-plan-v2&envId=introduction-to-pandas&lang=pythondata\n",
    "import pandas as pd\n",
    "\n",
    "def getDataframeSize(players: pd.DataFrame) -> List[int]:\n",
    "    return [players.shape[0], players.shape[1]]# 1. Используя индексацию [0] и [1], извлеките количество строк и столбцов соответственно:\n",
    "    # Это создает список с количеством строк во фрейме данных в качестве первого элемента и количеством столбцов в качестве второго элемента.\n",
    "    # OR\n",
    "    return list(players.shape)# Преобразование кортежа фигур непосредственно в список\n",
    "                              # Это преобразует кортеж фигур в список, который будет иметь ту же структуру: [количество строк, количество столбцов].\n",
    "\n",
    "\n",
    "# Этот код определяет функцию с именем getDataframeSize, которая принимает в качестве параметра объект DataFrame панды, называемый players. \n",
    "# Функция возвращает список из двух целых чисел: количество строк (ось 0) и количество столбцов (ось 1) в DataFrame.\n",
    "\n",
    "# Атрибут shape в pandas возвращает кортеж, содержащий размеры DataFrame, где первый элемент представляет количество строк, \n",
    "# а второй элемент представляет количество столбцов."
   ]
  },
  {
   "cell_type": "code",
   "execution_count": 1,
   "metadata": {},
   "outputs": [
    {
     "name": "stderr",
     "output_type": "stream",
     "text": [
      "C:\\Users\\Oleg\\AppData\\Local\\Temp\\ipykernel_15340\\4265303460.py:1: DeprecationWarning: \n",
      "Pyarrow will become a required dependency of pandas in the next major release of pandas (pandas 3.0),\n",
      "(to allow more performant data types, such as the Arrow string type, and better interoperability with other libraries)\n",
      "but was not found to be installed on your system.\n",
      "If this would cause problems for you,\n",
      "please provide us feedback at https://github.com/pandas-dev/pandas/issues/54466\n",
      "        \n",
      "  import pandas as pd\n"
     ]
    }
   ],
   "source": [
    "import pandas as pd\n",
    "\n",
    "def selectFirstRows(employees: pd.DataFrame) -> pd.DataFrame:\n",
    "    return employees.head(3) # Временная сложность выбора первых трех строк равна .head(3)O(1), поскольку она предполагает операцию с постоянным временем."
   ]
  }
 ],
 "metadata": {
  "kernelspec": {
   "display_name": "Python 3",
   "language": "python",
   "name": "python3"
  },
  "language_info": {
   "codemirror_mode": {
    "name": "ipython",
    "version": 3
   },
   "file_extension": ".py",
   "mimetype": "text/x-python",
   "name": "python",
   "nbconvert_exporter": "python",
   "pygments_lexer": "ipython3",
   "version": "3.11.8"
  }
 },
 "nbformat": 4,
 "nbformat_minor": 2
}
