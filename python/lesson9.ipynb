{
 "cells": [
  {
   "attachments": {},
   "cell_type": "markdown",
   "metadata": {},
   "source": [
    "### Чтобы вызвать метод, нужно создать объект"
   ]
  },
  {
   "cell_type": "code",
   "execution_count": null,
   "metadata": {},
   "outputs": [],
   "source": [
    "list1 = []  # в python почти всё объекты\n",
    "# help(list1) # хелпер, показывает описание объекта\n",
    "type(list1)  # показывает называет класса / тип данных\n",
    "list"
   ]
  },
  {
   "cell_type": "code",
   "execution_count": 1,
   "metadata": {},
   "outputs": [
    {
     "data": {
      "text/plain": [
       "'Hello, Word'"
      ]
     },
     "execution_count": 1,
     "metadata": {},
     "output_type": "execute_result"
    }
   ],
   "source": [
    "def get_value(text: str) -> str:  # type hinting / аннотация типов\n",
    "    \"\"\"\n",
    "    def func_name(*arg:rapametr,**kwargs:rapametr):\n",
    "        code\n",
    "    \"\"\"\n",
    "    return f\"Hello, {text}\"  # f-string, f'', интерполяция\n",
    "\n",
    "\n",
    "text: str = \"Word\"\n",
    "\n",
    "dir(get_value)  # показывает атрибуты\n",
    "get_value(text)  # call function\n",
    "\n",
    "# get_value.__call__(text)"
   ]
  },
  {
   "attachments": {},
   "cell_type": "markdown",
   "metadata": {},
   "source": [
    "### Класс это контейнер для функций"
   ]
  },
  {
   "cell_type": "code",
   "execution_count": 2,
   "metadata": {},
   "outputs": [
    {
     "name": "stdout",
     "output_type": "stream",
     "text": [
      "Олег любит математику!\n",
      "Олег любит программирование!\n"
     ]
    }
   ],
   "source": [
    "class Oleg:\n",
    "    name: str = \"Олег\"  # переменные это свойство класса / поле класса\n",
    "\n",
    "    def set_value(self, text: str) -> str:  # функця в классе называется метод\n",
    "        return f\"{Oleg.name} любит {text}\"\n",
    "\n",
    "\n",
    "obj1 = Oleg()  # создание объекта / экземпляр класса\n",
    "print(obj1.set_value(\"математику!\"))  # . точечная нотация\n",
    "\n",
    "obj2 = Oleg()\n",
    "print(obj2.set_value(\"программирование!\"))  #"
   ]
  },
  {
   "cell_type": "code",
   "execution_count": null,
   "metadata": {},
   "outputs": [],
   "source": [
    "x = [1, 2, 3]  # список -  Структура данных\n",
    "# алгритм поиска наибольшего значения\n",
    "# Алгоритм = последовательность действий, для выполнений задачи\n",
    "max_ = x[\n",
    "    0]  # Создали новую переменную max присвоивали к ей значение элемента с индксом ноль\n",
    "\n",
    "for num in x:  # in оператор челенства\n",
    "    # До : загаловок, после : тело инструкции\n",
    "    if num > max_:\n",
    "        max_ = num\n",
    "print(max_)  # Максимальный элемент ауцауцацфвсыфсфыс"
   ]
  }
 ],
 "metadata": {
  "kernelspec": {
   "display_name": "Python 3",
   "language": "python",
   "name": "python3"
  },
  "language_info": {
   "codemirror_mode": {
    "name": "ipython",
    "version": 3
   },
   "file_extension": ".py",
   "mimetype": "text/x-python",
   "name": "python",
   "nbconvert_exporter": "python",
   "pygments_lexer": "ipython3",
   "version": "3.11.7"
  },
  "orig_nbformat": 4
 },
 "nbformat": 4,
 "nbformat_minor": 2
}
