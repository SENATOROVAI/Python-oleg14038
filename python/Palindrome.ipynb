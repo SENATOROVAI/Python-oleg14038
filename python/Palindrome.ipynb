{
 "cells": [
  {
   "cell_type": "markdown",
   "metadata": {},
   "source": [
    "Что такое Палиндром?\n",
    "Число палиндрома в Python — это число, которое остается неизменным, когда его цифры меняются местами. Он читается одинаково и вперед, и назад. Чтобы проверить, является ли число палиндромом, мы сравниваем его с обратным числом. Если они равны, число является палиндромом.\n",
    "\n",
    "Пример: такие числа, как 121, 454 и 888, являются числами-палиндромами, поскольку они читаются одинаково как в прямом, так и в обратном направлении.\n",
    "\n",
    "Решение проблемы\n",
    "1. Возьмите значение целого числа и сохраните его в переменной.\n",
    "2. Перенесите значение целого числа в другую временную переменную.\n",
    "3. Используя цикл while, получите каждую цифру числа и сохраните перевернутое число в другой переменной.\n",
    "4. Проверьте, совпадает ли обратное число с числом во временной переменной.\n",
    "5. Распечатайте окончательный результат.\n",
    "6. Выход."
   ]
  },
  {
   "cell_type": "code",
   "execution_count": 22,
   "metadata": {},
   "outputs": [
    {
     "name": "stdout",
     "output_type": "stream",
     "text": [
      "Число — палиндром!, 121\n"
     ]
    }
   ],
   "source": [
    "n = int ( input ( \"Введите число: \") ) \n",
    "temp = n \n",
    "rev = 0 # Программа работает, сначала создавая переменную с именем reversed_number и инициализируя ее значением 0.\n",
    "while ( n > 0 ) : # . Затем она использует цикл while для перебора цифр числа, начиная с младшей значащей цифры.\n",
    "    dig = n% 10 #  Программа добавляет каждую цифру в переменнуюобратный_номер и делит число на 10, чтобы получить следующую цифру.\n",
    "    rev = rev* 10 +dig \n",
    "    n = n// 10 \n",
    "if ( temp == rev ) # :После завершения цикла while программа сравнивает переменную reverd_number с исходным числом.\n",
    "     print (f\"Число — палиндром!, {rev}\" ) \n",
    "else :\n",
    "     print (\"Число не является палиндромом!\" )"
   ]
  },
  {
   "cell_type": "code",
   "execution_count": 51,
   "metadata": {},
   "outputs": [
    {
     "ename": "NameError",
     "evalue": "name 'reverted' is not defined",
     "output_type": "error",
     "traceback": [
      "\u001b[1;31m---------------------------------------------------------------------------\u001b[0m",
      "\u001b[1;31mNameError\u001b[0m                                 Traceback (most recent call last)",
      "\u001b[1;32mc:\\Users\\Oleg\\Documents\\Python-oleg14038\\python\\Palindrome.ipynb Cell 3\u001b[0m line \u001b[0;36m8\n\u001b[0;32m      <a href='vscode-notebook-cell:/c%3A/Users/Oleg/Documents/Python-oleg14038/python/Palindrome.ipynb#W3sZmlsZQ%3D%3D?line=4'>5</a>\u001b[0m n \u001b[39m=\u001b[39m  \u001b[39mint\u001b[39m ( \u001b[39minput\u001b[39m ( \u001b[39m\"\u001b[39m\u001b[39mВведите число:\u001b[39m\u001b[39m\"\u001b[39m) ) \n\u001b[0;32m      <a href='vscode-notebook-cell:/c%3A/Users/Oleg/Documents/Python-oleg14038/python/Palindrome.ipynb#W3sZmlsZQ%3D%3D?line=6'>7</a>\u001b[0m \u001b[39m# Проверьте, является ли число палиндромом if is_palindrome ( n ) :\u001b[39;00m\n\u001b[1;32m----> <a href='vscode-notebook-cell:/c%3A/Users/Oleg/Documents/Python-oleg14038/python/Palindrome.ipynb#W3sZmlsZQ%3D%3D?line=7'>8</a>\u001b[0m \u001b[39mif\u001b[39;00m is_palindrome ( n ) :\n\u001b[0;32m      <a href='vscode-notebook-cell:/c%3A/Users/Oleg/Documents/Python-oleg14038/python/Palindrome.ipynb#W3sZmlsZQ%3D%3D?line=8'>9</a>\u001b[0m    \u001b[39mprint\u001b[39m ( \u001b[39m\"\u001b[39m\u001b[39mЧисло палиндром!\u001b[39m\u001b[39m\"\u001b[39m ) \n\u001b[0;32m     <a href='vscode-notebook-cell:/c%3A/Users/Oleg/Documents/Python-oleg14038/python/Palindrome.ipynb#W3sZmlsZQ%3D%3D?line=9'>10</a>\u001b[0m \u001b[39melse\u001b[39;00m :\n",
      "\u001b[1;32mc:\\Users\\Oleg\\Documents\\Python-oleg14038\\python\\Palindrome.ipynb Cell 3\u001b[0m line \u001b[0;36m2\n\u001b[0;32m      <a href='vscode-notebook-cell:/c%3A/Users/Oleg/Documents/Python-oleg14038/python/Palindrome.ipynb#W3sZmlsZQ%3D%3D?line=0'>1</a>\u001b[0m \u001b[39mdef\u001b[39;00m \u001b[39mis_palindrome\u001b[39m ( n ) :\n\u001b[1;32m----> <a href='vscode-notebook-cell:/c%3A/Users/Oleg/Documents/Python-oleg14038/python/Palindrome.ipynb#W3sZmlsZQ%3D%3D?line=1'>2</a>\u001b[0m      \u001b[39mreturn\u001b[39;00m  \u001b[39mstr\u001b[39m ( n )  \u001b[39m==\u001b[39m  \u001b[39m'\u001b[39m\u001b[39m'\u001b[39m \u001b[39m.\u001b[39m join ( reverted ( \u001b[39mstr\u001b[39m ( n ) ) )\n",
      "\u001b[1;31mNameError\u001b[0m: name 'reverted' is not defined"
     ]
    }
   ],
   "source": [
    "def is_palindrome ( n ) :\n",
    "     return  str ( n )  ==  '' . join ( reverted ( str ( n ) ) ) \n",
    " \n",
    "# Получите число от пользователя \n",
    "n =  int ( input ( \"Введите число:\") ) \n",
    " \n",
    "# Проверьте, является ли число палиндромом if is_palindrome ( n ) :\n",
    "if is_palindrome ( n ) :\n",
    "   print ( \"Число палиндром!\" ) \n",
    "else :\n",
    "   print ( \"Число не является палиндромом.\" )\n",
    "\n"
   ]
  },
  {
   "cell_type": "code",
   "execution_count": 65,
   "metadata": {},
   "outputs": [
    {
     "name": "stdout",
     "output_type": "stream",
     "text": [
      "Число не является палиндромом!\n"
     ]
    }
   ],
   "source": [
    "\n",
    "def is_palindrome ( n , temp , rev = 0 ) :# 1) пределения функции is_palindrome , которая с помощью рекурсии проверяет, является ли данное число палиндромом\n",
    "# 2)Функция принимает три параметра: n (проверяемое число), temp (исходное число) и rev (перевернутое число). Он также имеет базовый случай, который обрабатывается, когда n становится равным 0.                                      \n",
    "     if n ==  0 :#случае он проверяет, равно ли перевернутое число (rev) исходному числу (temp), и возвращает соответствующее сообщение\n",
    "          if temp == rev:\n",
    "               return  \"Число является палиндромом!\" \n",
    "          else:\n",
    "               return  \"Число не является палиндромом!\" \n",
    "     else: #Если базовый случай не выполняется, функция продолжает рекурсию. Он извлекает последнюю цифру (dig) числа, обновляет перевернутое число (rev) и удаляет последнюю цифру из n. Затем функция рекурсивно вызывается с обновленными значениями.\n",
    "          dig = n % 10 \n",
    "          rev = rev * 10 + dig \n",
    "          n = n // 10 \n",
    "          return is_palindrome ( n , temp , rev )\n",
    "     \n",
    "n =  int ( input ( \"Введите число: \") ) # Программа предлагает пользователю ввести число и сохраняет его в переменной n.\n",
    "result = is_palindrome( n , n ) #Функция is_palindrome вызывается с вводом пользователя, и результат сохраняется в переменной result.\n",
    "print(result)"
   ]
  },
  {
   "cell_type": "code",
   "execution_count": 67,
   "metadata": {},
   "outputs": [
    {
     "ename": "TypeError",
     "evalue": "isPalindrome() missing 1 required positional argument: 'x'",
     "output_type": "error",
     "traceback": [
      "\u001b[1;31m---------------------------------------------------------------------------\u001b[0m",
      "\u001b[1;31mTypeError\u001b[0m                                 Traceback (most recent call last)",
      "\u001b[1;32mc:\\Users\\Oleg\\Documents\\Python-oleg14038\\python\\Palindrome.ipynb Cell 5\u001b[0m line \u001b[0;36m1\n\u001b[0;32m      <a href='vscode-notebook-cell:/c%3A/Users/Oleg/Documents/Python-oleg14038/python/Palindrome.ipynb#W4sZmlsZQ%3D%3D?line=7'>8</a>\u001b[0m \t\t\u001b[39mreturn\u001b[39;00m \u001b[39mTrue\u001b[39;00m\n\u001b[0;32m     <a href='vscode-notebook-cell:/c%3A/Users/Oleg/Documents/Python-oleg14038/python/Palindrome.ipynb#W4sZmlsZQ%3D%3D?line=9'>10</a>\u001b[0m x \u001b[39m=\u001b[39m \u001b[39mint\u001b[39m(\u001b[39minput\u001b[39m(\u001b[39m'\u001b[39m\u001b[39mВв\u001b[39m\u001b[39m'\u001b[39m))\n\u001b[1;32m---> <a href='vscode-notebook-cell:/c%3A/Users/Oleg/Documents/Python-oleg14038/python/Palindrome.ipynb#W4sZmlsZQ%3D%3D?line=10'>11</a>\u001b[0m result1 \u001b[39m=\u001b[39m isPalindrome(x)\n\u001b[0;32m     <a href='vscode-notebook-cell:/c%3A/Users/Oleg/Documents/Python-oleg14038/python/Palindrome.ipynb#W4sZmlsZQ%3D%3D?line=11'>12</a>\u001b[0m \u001b[39mprint\u001b[39m(result1)\n",
      "\u001b[1;31mTypeError\u001b[0m: isPalindrome() missing 1 required positional argument: 'x'"
     ]
    }
   ],
   "source": [
    "def isPalindrome(self, x: int) -> bool:\n",
    "\tif x<0:\n",
    "\t\treturn False\n",
    "\t\tinputNum = x\n",
    "\t\tnewNum = 0\n",
    "\twhile x>0:\n",
    "\t\tnewNum = newNum * 10 + x%10\n",
    "\t\treturn True\n",
    "\n",
    "x = int(input('Вв'))\n",
    "result1 = isPalindrome(x)\n",
    "print(result1)\n",
    "\n"
   ]
  }
 ],
 "metadata": {
  "kernelspec": {
   "display_name": "Python 3",
   "language": "python",
   "name": "python3"
  },
  "language_info": {
   "codemirror_mode": {
    "name": "ipython",
    "version": 3
   },
   "file_extension": ".py",
   "mimetype": "text/x-python",
   "name": "python",
   "nbconvert_exporter": "python",
   "pygments_lexer": "ipython3",
   "version": "3.12.0"
  }
 },
 "nbformat": 4,
 "nbformat_minor": 2
}
