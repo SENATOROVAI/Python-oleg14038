{
 "cells": [
  {
   "cell_type": "markdown",
   "metadata": {},
   "source": [
    "1)Делаем fork \n",
    "2) склонировать на PC    \n",
    "3)Внесение измениение(for example:(Например) mypy , blackfork )\n",
    "4)git commit\n",
    "5)git push\n",
    "6)pull requests     "
   ]
  }
 ],
 "metadata": {
  "language_info": {
   "name": "python"
  }
 },
 "nbformat": 4,
 "nbformat_minor": 2
}
