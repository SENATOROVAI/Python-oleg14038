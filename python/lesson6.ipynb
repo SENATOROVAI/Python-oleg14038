{
 "cells": [
  {
   "cell_type": "code",
   "execution_count": null,
   "metadata": {},
   "outputs": [],
   "source": [
    "# Введение в парсинг \n",
    "# Чтобы обойти защиту сервера нужно замаскироваться под браузер - мы можем это сделать с помощью отправки загаловков с копировав с сайта\n",
    "# https://www.useragentstring.com/pages/useragentstring.php"
   ]
  },
  {
   "cell_type": "code",
   "execution_count": null,
   "metadata": {},
   "outputs": [],
   "source": [
    "# DOM-tree Oleg learns parsing\n",
    "# Основой HTML-документа являются теги. \n",
    "# В соответствии с объектной моделью документа («Document Object Model», коротко DOM), каждый HTML-тег является объектом. Вложенные теги являются «детьми» родительского элемента. Текст, который находится внутри тега, также является объектом.\n",
    "# Все эти объекты доступны при помощи JavaScript, мы можем использовать их для изменения страницы."
   ]
  }
 ],
 "metadata": {
  "language_info": {
   "name": "python"
  },
  "orig_nbformat": 4
 },
 "nbformat": 4,
 "nbformat_minor": 2
}
