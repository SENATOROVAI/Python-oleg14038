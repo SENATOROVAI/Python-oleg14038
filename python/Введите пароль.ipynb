{
 "cells": [
  {
   "cell_type": "code",
   "execution_count": 1,
   "metadata": {},
   "outputs": [
    {
     "name": "stdout",
     "output_type": "stream",
     "text": [
      "Привет, oleg\n",
      "Неверный пароль \n"
     ]
    }
   ],
   "source": [
    "name = \"oleg\"\n",
    "password = 18051993\n",
    "if name == \"oleg\":\n",
    "    print(f\"Привет, {name}\")\n",
    "    if password == \"18051993\":\n",
    "        print(\"Доступ разрешен \")\n",
    "    else:\n",
    "        print(\"Неверный пароль \")"
   ]
  },
  {
   "cell_type": "code",
   "execution_count": null,
   "metadata": {},
   "outputs": [],
   "source": [
    "# Рассмотрим программу, которая запрашивает ввод имени пользователя и пароля\n",
    "while True:\n",
    "    print(\"Who are you ?\")\n",
    "    name3 = input(\"Введите ИМЯ\")\n",
    "    if name3 != \"Joe\":\n",
    "        continue  # Инструкция continue если name if name не равен 'Joe' то инструкция передаеться в начала цикла\n",
    "    print(\"Helli,Joe. What is the password ? (It is a fish)\")\n",
    "    password = input(\"Введиете пароль\")\n",
    "    if password == \"18.05.93\":\n",
    "        break\n",
    "print(\"Acces granted. \")"
   ]
  }
 ],
 "metadata": {
  "kernelspec": {
   "display_name": "Python 3",
   "language": "python",
   "name": "python3"
  },
  "language_info": {
   "codemirror_mode": {
    "name": "ipython",
    "version": 3
   },
   "file_extension": ".py",
   "mimetype": "text/x-python",
   "name": "python",
   "nbconvert_exporter": "python",
   "pygments_lexer": "ipython3",
   "version": "3.12.0"
  }
 },
 "nbformat": 4,
 "nbformat_minor": 2
}
