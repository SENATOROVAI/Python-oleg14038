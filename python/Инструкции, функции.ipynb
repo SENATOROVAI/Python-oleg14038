{
 "cells": [
  {
   "cell_type": "code",
   "execution_count": null,
   "metadata": {},
   "outputs": [],
   "source": [
    "# Цикл while\n",
    "# Инструкция while позволяет организовать многократное выполнение\n",
    "# блока кода. Тело цикла while выполняется до тех пор, пока истинно заданное условие.\n",
    "\n",
    "spam = 0\n",
    "while spam < 5:\n",
    "    print('Hello, world.')\n",
    "    spam = spam + 1\n",
    "\n"
   ]
  },
  {
   "cell_type": "code",
   "execution_count": 2,
   "metadata": {},
   "outputs": [
    {
     "name": "stdout",
     "output_type": "stream",
     "text": [
      "Please type you name \n",
      "Please type you name \n",
      "Please type you name \n",
      "Please type you name \n",
      "Please type you name \n",
      "Please type you name \n",
      "Please type you name \n",
      "Please type you name \n",
      "Please type you name \n",
      "Please type you name \n",
      "Please type you name \n",
      "Please type you name \n",
      "Please type you name \n",
      "Please type you name \n",
      "Please type you name \n"
     ]
    }
   ],
   "source": [
    "name1 = ''\n",
    "while name1 != 'yor name ':\n",
    "    print(\"Please type you name \")\n",
    "    name = input()\n",
    "print(\"Thank you ! \")"
   ]
  },
  {
   "cell_type": "code",
   "execution_count": 1,
   "metadata": {},
   "outputs": [
    {
     "name": "stdout",
     "output_type": "stream",
     "text": [
      "Plese type your name\n",
      "Plese type your name\n",
      "Plese type your name\n",
      "Plese type your name\n",
      "Thank you\n"
     ]
    }
   ],
   "source": [
    "# Инструкция break\n",
    "#Существует простой способ заставить программу досрочно выйти из\n",
    "# цикла while\n",
    "while True: \n",
    "    print('Plese type your name')\n",
    "    name = input()\n",
    "    if name == 'your name ':# Инструкция if проверяет равно ли значение переменной name строку your name \n",
    "        break\n",
    "print(\"Thank you\")"
   ]
  },
  {
   "cell_type": "code",
   "execution_count": 5,
   "metadata": {},
   "outputs": [
    {
     "name": "stdout",
     "output_type": "stream",
     "text": [
      "My name is\n",
      "1\n",
      "2\n",
      "3\n",
      "4\n",
      "5\n"
     ]
    }
   ],
   "source": [
    "# Цикл for и функция range()\n",
    "# Цикл while  выполняется до тех пор, пока условие остается истинным.\n",
    "print('My name is')\n",
    "for i in range (5):\n",
    "    print(i + 1)"
   ]
  },
  {
   "cell_type": "code",
   "execution_count": 6,
   "metadata": {},
   "outputs": [
    {
     "name": "stdout",
     "output_type": "stream",
     "text": [
      "5050\n"
     ]
    }
   ],
   "source": [
    "# Инструкции continue и break поддерживаются только в циклах while и for.\n",
    "# Если попытаться использовать их где-то еще, Python выдаст сообщение об ошибке.\n",
    "# Инструкция continue возвращает управление в начало цикла для выполнения следующей итерации, при этом счетчик цикла увеличивается, как если бы программа достигла конца цикла и вернулась к его началу обычным способом.\n",
    "total = 0 \n",
    "for num in range(101):\n",
    "    total = total + num \n",
    "print(total)\n",
    "\n",
    "\n"
   ]
  },
  {
   "cell_type": "code",
   "execution_count": 7,
   "metadata": {},
   "outputs": [
    {
     "name": "stdout",
     "output_type": "stream",
     "text": [
      "My name is ?\n",
      "Jimmy Five Times 0\n",
      "Jimmy Five Times 1\n",
      "Jimmy Five Times 2\n",
      "Jimmy Five Times 3\n",
      "Jimmy Five Times 4\n"
     ]
    }
   ],
   "source": [
    "# Эквивалентный цикл while\n",
    "print('My name is ?')\n",
    "i = 0 \n",
    "while i < 5: \n",
    "    print(f\"Jimmy Five Times {i}\")\n",
    "    i = i + 1"
   ]
  },
  {
   "cell_type": "code",
   "execution_count": 8,
   "metadata": {},
   "outputs": [
    {
     "name": "stdout",
     "output_type": "stream",
     "text": [
      "12\n",
      "13\n",
      "14\n",
      "15\n"
     ]
    }
   ],
   "source": [
    "# Аргументы начала, конца и шага функции range ()\n",
    "for i in range(12, 16):\n",
    "    print(i)"
   ]
  },
  {
   "cell_type": "code",
   "execution_count": 12,
   "metadata": {},
   "outputs": [
    {
     "name": "stdout",
     "output_type": "stream",
     "text": [
      "5\n",
      "4\n",
      "3\n",
      "2\n",
      "1\n",
      "0\n"
     ]
    }
   ],
   "source": [
    "# Функция range() очень гибкая в отношении форматирования последовательностей целых чисел для циклов for\n",
    "# Например, можно задать отрицательный шаг, сделать так, чтобы отсчет шел от больщих значениий к меньшим \n",
    "\n",
    "for i in range(5, -1, -1):\n",
    "    print(i)"
   ]
  }
 ],
 "metadata": {
  "kernelspec": {
   "display_name": "Python 3",
   "language": "python",
   "name": "python3"
  },
  "language_info": {
   "codemirror_mode": {
    "name": "ipython",
    "version": 3
   },
   "file_extension": ".py",
   "mimetype": "text/x-python",
   "name": "python",
   "nbconvert_exporter": "python",
   "pygments_lexer": "ipython3",
   "version": "3.12.0"
  }
 },
 "nbformat": 4,
 "nbformat_minor": 2
}
