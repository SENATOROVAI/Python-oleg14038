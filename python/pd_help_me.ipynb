{
 "cells": [
  {
   "cell_type": "code",
   "execution_count": null,
   "metadata": {},
   "outputs": [],
   "source": [
    "import  pandas as pd\n",
    "import csv\n",
    "import os \n",
    "\n",
    "\n",
    "#with open('data.csv', 'r', encoding='utf-8') as file:\n",
    "#    reader = csv.DictReader(file)  \n",
    "df = pd.read_csv(\"https://github.com/Atmyre/Sberbank-ML/blob/d39774cc4fc55c54db7294878318f3708f3f975c/Homeworks/Homework_1/train_titanik.csv\")\n",
    "\n",
    "df.head(10)# вывожу первых 5 записей  \n",
    "df.tail(5)# вывожу 5 последних записей "
   ]
  }
 ],
 "metadata": {
  "kernelspec": {
   "display_name": "Python 3",
   "language": "python",
   "name": "python3"
  },
  "language_info": {
   "codemirror_mode": {
    "name": "ipython",
    "version": 3
   },
   "file_extension": ".py",
   "mimetype": "text/x-python",
   "name": "python",
   "nbconvert_exporter": "python",
   "pygments_lexer": "ipython3",
   "version": "3.11.5"
  }
 },
 "nbformat": 4,
 "nbformat_minor": 2
}
