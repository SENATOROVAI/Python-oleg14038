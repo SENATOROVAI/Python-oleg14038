{
 "cells": [
  {
   "cell_type": "code",
   "execution_count": 2,
   "metadata": {},
   "outputs": [
    {
     "name": "stdout",
     "output_type": "stream",
     "text": [
      "Hi Alice\n"
     ]
    }
   ],
   "source": [
    "# Инструкция if\n",
    "# Самая распространенная управляющая инструкция — if. Вложенный\n",
    "# блок кода будет выполняться только в том случае, если условие равно True\n",
    "# (т.е. истинно). Если же условие равно False (т.е. ложно), то блок выполняться не будет\n",
    "\n",
    "name = \"Alice\"\n",
    "if name == \"Alice\":\n",
    "    print(\"Hi Alice\")"
   ]
  },
  {
   "cell_type": "code",
   "execution_count": 4,
   "metadata": {},
   "outputs": [
    {
     "name": "stdout",
     "output_type": "stream",
     "text": [
      "Hi Aliece\n"
     ]
    }
   ],
   "source": [
    "# Инструкция else\n",
    "\n",
    "# Инструкция if может дополняться необязательной инструкцией else\n",
    "# со своим блоком кода, который выполняется лишь в том случае, если условие if ложно\n",
    "name = (input('Введиьте Имя'))\n",
    "if name == \"Alice\":\n",
    "    print(\"Hi Aliece\")\n",
    "else:\n",
    "    print('Hello, stranger ')"
   ]
  },
  {
   "cell_type": "code",
   "execution_count": 6,
   "metadata": {},
   "outputs": [
    {
     "name": "stdout",
     "output_type": "stream",
     "text": [
      "Hi Alice\n"
     ]
    }
   ],
   "source": [
    "#Инструкция elif\n",
    "#Из двух блоков кода, связанных с инструкциями if и else, всегда выполняется только один. Но иногда в программе требуется проверить несколько\n",
    "#условий, для каждого из которых предусмотрен свой блок кода. Инструкция elif (сокращение от “else if’) может стоять только после инструкции\n",
    "#if или другой инструкции elif. Она предоставляет еще одно условие, которое проверяется лишь в том случае, если все предыдущие условия оказались ложными. В Python инструкция elif всегда состоит из следующих\n",
    "#элементов:\n",
    "name = 'Alice'\n",
    "age1 = 12\n",
    "if name == 'Alice':\n",
    "    print(\"Hi Alice\")\n",
    "elif age1 < 12:\n",
    "    print('You are not Alice, kido. ')\n",
    "# Блок elif выполняется, если выражение аде < 12 истинно, а выражение name == ’Alice ’ ложно.\n"
   ]
  },
  {
   "cell_type": "code",
   "execution_count": 7,
   "metadata": {},
   "outputs": [
    {
     "name": "stdout",
     "output_type": "stream",
     "text": [
      "Unike you, Alice is not unded, import vampure\n"
     ]
    }
   ],
   "source": [
    "name = 'Corol'\n",
    "age = 3000\n",
    "if name == 'Alice': \n",
    "    print('Hi, Alice')\n",
    "elif age < 12:\n",
    "    print('You are not Alice, kido ')\n",
    "elif age > 1000:\n",
    "    print(\"Unike you, Alice is not unded, import vampure\")\n",
    "elif age > 100: \n",
    "    print('You are not ALICE, grannnie ')\n"
   ]
  }
 ],
 "metadata": {
  "kernelspec": {
   "display_name": "Python 3",
   "language": "python",
   "name": "python3"
  },
  "language_info": {
   "codemirror_mode": {
    "name": "ipython",
    "version": 3
   },
   "file_extension": ".py",
   "mimetype": "text/x-python",
   "name": "python",
   "nbconvert_exporter": "python",
   "pygments_lexer": "ipython3",
   "version": "3.12.0"
  }
 },
 "nbformat": 4,
 "nbformat_minor": 2
}
