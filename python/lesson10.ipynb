{
 "cells": [
  {
   "cell_type": "code",
   "execution_count": 2,
   "metadata": {},
   "outputs": [
    {
     "data": {
      "text/plain": [
       "(list, list)"
      ]
     },
     "execution_count": 2,
     "metadata": {},
     "output_type": "execute_result"
    }
   ],
   "source": [
    "list_name1 = list()\n",
    "list_name = [] # синтаксический сахар \n",
    "\n",
    "type(list_name), type(list_name1) # list => name of class\n",
    "\n"
   ]
  },
  {
   "cell_type": "code",
   "execution_count": null,
   "metadata": {},
   "outputs": [],
   "source": [
    "from typing import List\n",
    "\n",
    "class list1:\n",
    "    \"\"\"\n",
    "    class list:\n",
    "        ...\n",
    "\n",
    "    object =  list() объект класса / экземпляр класса  \n",
    "    \"\"\"\n",
    "    list_number = [1,2,3] # свойство класса\n",
    "    def get_value(self, string: str) -> List:\n",
    "        return list((self.list_number, string, 5))  # list() => [] , tuple() => () кортеж\n",
    "        \"\"\"\n",
    "        list(arg: 1 item), list((1,2,3)) мы используем кортеж () для упаковки данных в 1 аргументов\n",
    "        \"\"\"\n",
    "        \n",
    "object_of_class_list1 = list1() # созали объект класса\n",
    "\n",
    "# dir(object_of_class_list1)\n",
    "#object_of_class_list1.get_value # <bound method list1.get_value of <__main__.list1 object at 0x0000026798894C10>>\n",
    "object_of_class_list1.get_value('4')\n",
    "#object_of_class_list1.get_value(\"oleg\")[1] # этот метод возвращает => []\n",
    "# [1,2,3][0] => 1\n",
    "\n",
    "#object_of_class_list1.get_value(\"oleg\")[0].append(\"математику\") # append => viod method => нерезультирующий\n",
    "#object_of_class_list1.get_value(\"oleg\")"
   ]
  },
  {
   "cell_type": "code",
   "execution_count": 6,
   "metadata": {},
   "outputs": [
    {
     "data": {
      "text/plain": [
       "[0, 2, 4, 6, 8]"
      ]
     },
     "execution_count": 6,
     "metadata": {},
     "output_type": "execute_result"
    }
   ],
   "source": [
    "list1 = [*range(10)] # * распаковка => эквивалентно циклу\n",
    "list1 = []\n",
    "\n",
    "for item in range(0, 10):\n",
    "    if item % 2 == 0:\n",
    "        list1.append(item)        \n",
    "    \n",
    "dir(list)\n",
    "\n",
    "number = 1\n",
    "number.__add__(1)\n",
    "\n",
    "list1"
   ]
  },
  {
   "cell_type": "code",
   "execution_count": null,
   "metadata": {},
   "outputs": [],
   "source": [
    "help(list())"
   ]
  },
  {
   "cell_type": "code",
   "execution_count": null,
   "metadata": {},
   "outputs": [],
   "source": [
    "help(list)"
   ]
  }
 ],
 "metadata": {
  "kernelspec": {
   "display_name": "Python 3",
   "language": "python",
   "name": "python3"
  },
  "language_info": {
   "codemirror_mode": {
    "name": "ipython",
    "version": 3
   },
   "file_extension": ".py",
   "mimetype": "text/x-python",
   "name": "python",
   "nbconvert_exporter": "python",
   "pygments_lexer": "ipython3",
   "version": "3.11.7"
  }
 },
 "nbformat": 4,
 "nbformat_minor": 2
}
