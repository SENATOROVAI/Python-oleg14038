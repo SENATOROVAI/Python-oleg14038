{
 "cells": [
  {
   "cell_type": "code",
   "execution_count": 11,
   "metadata": {},
   "outputs": [
    {
     "name": "stdout",
     "output_type": "stream",
     "text": [
      "5\n",
      "4\n",
      "3\n",
      "2\n",
      "1\n",
      "0\n"
     ]
    }
   ],
   "source": [
    "# Функция range() очень гибкая в отношении форматирования последовательностей целых чисел для циклов for\n",
    "# Например, можно задать отрицательный шаг, сделать так, чтобы отсчет шел от больщих значениий к меньшим\n",
    "\n",
    "import random\n",
    "import sys\n",
    "for i in range(5, -1, -1):\n",
    "    print(i)"
   ]
  },
  {
   "cell_type": "code",
   "execution_count": 6,
   "metadata": {},
   "outputs": [
    {
     "name": "stdout",
     "output_type": "stream",
     "text": [
      "Введите \"exit\" для выхода. \n",
      "Вы ввели response .\n",
      "Введите \"exit\" для выхода. \n",
      "Вы ввели exit  .\n",
      "Введите \"exit\" для выхода. \n"
     ]
    },
    {
     "ename": "SystemExit",
     "evalue": "",
     "output_type": "error",
     "traceback": [
      "An exception has occurred, use %tb to see the full traceback.\n",
      "\u001b[1;31mSystemExit\u001b[0m\n"
     ]
    },
    {
     "name": "stderr",
     "output_type": "stream",
     "text": [
      "C:\\Users\\Oleg\\AppData\\Roaming\\Python\\Python312\\site-packages\\IPython\\core\\interactiveshell.py:3556: UserWarning: To exit: use 'exit', 'quit', or Ctrl-D.\n",
      "  warn(\"To exit: use 'exit', 'quit', or Ctrl-D.\", stacklevel=1)\n"
     ]
    }
   ],
   "source": [
    "# from random import\n",
    "# Досрочное завершение программы c помощью функции sys.exit()\n",
    "\n",
    "\n",
    "while True:\n",
    "    print('Введите \"exit\" для выхода. ')\n",
    "    response = input()\n",
    "    if response == \"exit\":\n",
    "        sys.exit()\n",
    "    print(\"Вы ввели\", response, \".\")"
   ]
  },
  {
   "cell_type": "code",
   "execution_count": 1,
   "metadata": {},
   "outputs": [
    {
     "name": "stdout",
     "output_type": "stream",
     "text": [
      "Я загадал число от 1 до 20 \n",
      "Угадай число \n",
      "Число больше \n",
      "Угадай число \n",
      "Число больше \n",
      "Угадай число \n",
      "Число больше \n",
      "Угадай число \n",
      "Число больше \n",
      "Угадай число \n",
      "Число меньше \n",
      "Угадай число \n",
      "Число меньше \n"
     ]
    },
    {
     "ename": "NameError",
     "evalue": "name 'quss' is not defined",
     "output_type": "error",
     "traceback": [
      "\u001b[1;31m---------------------------------------------------------------------------\u001b[0m",
      "\u001b[1;31mNameError\u001b[0m                                 Traceback (most recent call last)",
      "Cell \u001b[1;32mIn[1], line 21\u001b[0m\n\u001b[0;32m     19\u001b[0m     \u001b[38;5;28mprint\u001b[39m(\u001b[38;5;124m\"\u001b[39m\u001b[38;5;124mОтлично,=! Вы угадали.  Количество попыток\u001b[39m\u001b[38;5;124m\"\u001b[39m, (\u001b[38;5;28mstr\u001b[39m(qussesTaken)),\u001b[38;5;124m\"\u001b[39m\u001b[38;5;124m.\u001b[39m\u001b[38;5;124m\"\u001b[39m)\n\u001b[0;32m     20\u001b[0m \u001b[38;5;28;01melse\u001b[39;00m: \n\u001b[1;32m---> 21\u001b[0m     \u001b[38;5;28mprint\u001b[39m(\u001b[38;5;124m'\u001b[39m\u001b[38;5;124mВы неугадали. Я загадал число\u001b[39m\u001b[38;5;124m'\u001b[39m, (\u001b[38;5;28mstr\u001b[39m(\u001b[43mquss\u001b[49m)), \u001b[38;5;124m'\u001b[39m\u001b[38;5;124m.\u001b[39m\u001b[38;5;124m'\u001b[39m)\n",
      "\u001b[1;31mNameError\u001b[0m: name 'quss' is not defined"
     ]
    }
   ],
   "source": [
    "# Короткая программа: угадай число\n",
    "\n",
    "\n",
    "secretNamber = random.randint(\n",
    "    1, 20\n",
    "    # функцию random, randint () для генерации числа, которое должен угадать пользовать\n",
    ")\n",
    "print(\"Я загадал число от 1 до 20 \")\n",
    "\n",
    "for qussesTaken in range(1, 7):  # Игроку дается 6 попыток\n",
    "    print(\"Угадай число \")\n",
    "    quess = int(input())\n",
    "\n",
    "    if quess < secretNamber:\n",
    "        print(\"Число больше \")\n",
    "    elif quess > secretNamber:\n",
    "        print(\"Число меньше \")\n",
    "    else:\n",
    "        break  # Число угадал\n",
    "\n",
    "if quess == secretNamber:\n",
    "    print(\"Отлично,=! Вы угадали.  Количество попыток\", (str(qussesTaken)),\n",
    "          \".\")\n",
    "else:\n",
    "    print(\"Вы неугадали. Я загадал число\", (str(quss)), \".\")"
   ]
  }
 ],
 "metadata": {
  "kernelspec": {
   "display_name": "Python 3",
   "language": "python",
   "name": "python3"
  },
  "language_info": {
   "codemirror_mode": {
    "name": "ipython",
    "version": 3
   },
   "file_extension": ".py",
   "mimetype": "text/x-python",
   "name": "python",
   "nbconvert_exporter": "python",
   "pygments_lexer": "ipython3",
   "version": "3.12.0"
  }
 },
 "nbformat": 4,
 "nbformat_minor": 2
}
