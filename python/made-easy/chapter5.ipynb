{
 "cells": [
  {
   "cell_type": "code",
   "execution_count": 1,
   "metadata": {},
   "outputs": [
    {
     "data": {
      "text/plain": [
       "'Chapter5'"
      ]
     },
     "execution_count": 1,
     "metadata": {},
     "output_type": "execute_result"
    }
   ],
   "source": [
    "\"\"\"Chapter5.\"\"\""
   ]
  },
  {
   "cell_type": "markdown",
   "metadata": {},
   "source": [
    "Операторы управления потоком"
   ]
  },
  {
   "cell_type": "markdown",
   "metadata": {},
   "source": [
    "Оператор if\n",
    "\n",
    "Оператор for (цикл)\n",
    "\n",
    "Оператор while (цикл)\n",
    "\n",
    "Операторы break и continue\n",
    "\n",
    "Блок else в циклах\n",
    "\n",
    "Оператор раss\n",
    "\n",
    "Операторы управления потоком"
   ]
  },
  {
   "cell_type": "markdown",
   "metadata": {},
   "source": [
    "5.2. Операторы if\n",
    "\n",
    "\n",
    "Оператор if используется для проверки условия и, если условие истинно, выполняется связанный с оператором блок кода (называемый блоком if)"
   ]
  },
  {
   "cell_type": "markdown",
   "metadata": {},
   "source": [
    "if условие:\n",
    "    # блок кода, который выполнится, если условие истинно\n",
    "elif другое_условие:\n",
    "    # блок кода, который выполнится, если первое условие ложное и другое условие истинно\n",
    "else:\n",
    "    # блок кода, который выполнится, если все условия ложные"
   ]
  },
  {
   "cell_type": "code",
   "execution_count": null,
   "metadata": {},
   "outputs": [],
   "source": [
    "x_one = 4\n",
    "if x_one > 0:\n",
    "    if x_one % 2 == 0:\n",
    "        print(\"x_one положительное четное число\")\n",
    "    else:\n",
    "        print(\"x_one положительное нечетное число\")\n",
    "else:\n",
    "    print(\"x_one отрицательное число\")"
   ]
  },
  {
   "cell_type": "code",
   "execution_count": null,
   "metadata": {},
   "outputs": [],
   "source": [
    "x_two = 8\n",
    "\n",
    "# Упрощенное сравнение\n",
    "if 5 < x_two < 10:\n",
    "    print(\"x_two находится между 5 и 10\")\n",
    "    # Оба условия проверяются одновременно\n",
    "\n",
    "if x_two < 3 or x_two > 7:\n",
    "    print(\n",
    "        \"x_two меньше 3 или больше 7\"\n",
    "    )  # Достаточно, чтобы одно из условий было истинным"
   ]
  },
  {
   "cell_type": "markdown",
   "metadata": {},
   "source": [
    "x_three = 10\n",
    "result = \"больше 5\" if x_three > 5 else \"меньше или равен 5\"\n",
    "print(result)  # Выведет: больше 5"
   ]
  },
  {
   "cell_type": "markdown",
   "metadata": {},
   "source": [
    "Синтаксис: ключевое слово if, условие и \n",
    "двоеточие. Блок кода оператора if начинается со следующей строки и должен иметь отступ. \n",
    "\n",
    "Отступ сообщает Python\n",
    "о том, что этот блок кода предназначен для оператора if.\n",
    "\n",
    "if условие:\n",
    "    \n",
    "    код блока if\n",
    "\n",
    "конец блока if"
   ]
  },
  {
   "cell_type": "markdown",
   "metadata": {},
   "source": [
    "Реальная ситуация: перед праздником в торговом центре объявили распродажу.\n",
    "При покупке электронных товаров вам предлагается скидка 20% при условии, что\n",
    "сумма покупки превышает 50 ООО. Клиент покупает некоторое количество товаров,\n",
    "суммарная стоимость купленных товаров вводится с клавиатуры. Нужно написать\n",
    "программу для вычисления суммы, подлежащей оплате"
   ]
  },
  {
   "cell_type": "markdown",
   "metadata": {},
   "source": [
    "# total_amount= int (input(\"Oбщaя сумма nокуnаемых товаров : \"))\n",
    "# discount = 0\n",
    "# if total_amount > 50000 :\n",
    "#     discount = (total_amount * 20) /100\n",
    "# bill_amount = total_amount - discount\n",
    "# print(f\"Итоговая сумма к оплате : {bill_amount} , скидка составила : {discount} \")"
   ]
  },
  {
   "cell_type": "markdown",
   "metadata": {},
   "source": [
    "5.2.2. Оператор if-else\n",
    "В большинстве случаев бывает нужно что-то сделать, если условие if не выполни\n",
    "лось, т. е. оказалось ложно. Для этого у нас есть оператор if-else "
   ]
  },
  {
   "cell_type": "markdown",
   "metadata": {},
   "source": [
    "Как и ранее, оператор if проверяет условие: если условие истинно, запускается\n",
    "блок if, в противном случае выполняется другой блок операторов (называемый\n",
    "блоком else). При этом блок else не является обязательным.\n",
    "\n",
    "if условие :\n",
    "    \n",
    "    код блока if\n",
    "\n",
    "else :\n",
    "    \n",
    "    код блока else"
   ]
  },
  {
   "cell_type": "code",
   "execution_count": null,
   "metadata": {},
   "outputs": [],
   "source": [
    "nurn = int(input(\"Enter a number: \"))\n",
    "if nurn > 11:\n",
    "    print(f\"{nurn} i s greater than \")\n",
    "else:\n",
    "    print(f\"{nurn} is smaller than 11\")"
   ]
  },
  {
   "cell_type": "markdown",
   "metadata": {},
   "source": [
    "Реальная ситуация: перед праздником в торговом центре объявили распродажу.\n",
    "При покупке одежды и модных аксессуаров вам предлагается скидка 20% при\n",
    "условии, что сумма покупки превышает 25 ООО, в противном случае скидка состав\n",
    "ляет 5%. Клиент покупает некоторое количество товаров, суммарная стоимость\n",
    "купленных товаров вводится с клавиатуры. Напишите программу для вычисления\n",
    "суммы, подлежащей оплате."
   ]
  },
  {
   "cell_type": "markdown",
   "metadata": {},
   "source": [
    "# full_suma = int(input(\"full suma of clothes and accessories purchased \"))# общая сумма покупаемой одежды и аксессуаров\n",
    "\n",
    "# if full_suma > 25000:\n",
    "#     discount_one = (full_suma * 20)/100\n",
    "#     bill_amount_one = full_suma - discount_one\n",
    "#     print(4\"Итоговая сумма {bill_amount_one}, скидка составила {discount_one}\")\n",
    "#     pass\n",
    "\n",
    "# elif full_suma < 25000:\n",
    "#     discount_two = (full_suma *5 )/100\n",
    "#     bill_amount_two = full_suma - discount_two\n",
    "#     print(f\"Итоговая сумма {bill_amount_two}, скидка составила {discount_two}\")"
   ]
  },
  {
   "cell_type": "markdown",
   "metadata": {},
   "source": [
    "5.2.3. Оператор if-elif-else"
   ]
  },
  {
   "cell_type": "code",
   "execution_count": null,
   "metadata": {},
   "outputs": [],
   "source": [
    "x_entr = int(input(\"Please enter an integer :\"))\n",
    "if x_entr < 0:\n",
    "    print(\"Negative NumЬer\")\n",
    "elif x_entr == 0:\n",
    "    print(\"Zero\")\n",
    "elif x_entr == 1:\n",
    "    print(\"Single\")\n",
    "else:\n",
    "    print(\"More\")"
   ]
  },
  {
   "cell_type": "markdown",
   "metadata": {},
   "source": [
    "Блоков elif может быть сколько угодно (или их может не быть вовсе), а блок else\n",
    "необязателен. Ключевое слово elif является сокращением от else if и позволяет\n",
    "избежать кода с огромными отступами."
   ]
  },
  {
   "cell_type": "markdown",
   "metadata": {},
   "source": [
    "Реальная ситуация: в компании работают люди со всей страны. Отдел кадров\n",
    "классифицирует города по количеству населения на 3 категории: A, В и С. Размер\n",
    "компенсации аренды жилья зависит от класса города по следующим правилам: для\n",
    "города класса A - 30% от базовой заработной платы, для города класса B - 20%\n",
    "от базовой заработной платы, для города класса С - 10% от базовой заработной\n",
    "платы."
   ]
  },
  {
   "cell_type": "markdown",
   "metadata": {},
   "source": [
    "# name = \"Нилаб\"\n",
    "# basic_salary = int(input(f\"Зapплaтa сотрудника{name}\"))\n",
    "# city_class = input()\n",
    "# if city_class == ( \"a\" or \"A\" ):\n",
    "#     HRA_ONE = (basic_salary * 30) /100\n",
    "#     print (f\"Компенсация за аренду жилья для {name} составит{HRA_ONE}\")\n",
    "# elif city_class == ( \"b\" or \"В\" ):\n",
    "#     HRA_TWO = (basic_salary * 20) /100\n",
    "#     print (f\"Компенсация за аренду жилья для {name} составит{HRA_TWO}\")\n",
    "# elif city_class == (\"c\" or \"C\" ) :\n",
    "#     HRA_TREE = (basic_salary * 10) /100\n",
    "#     print (f\"Компенсация за аренду жилья для {name} составит{HRA_TREE}\")"
   ]
  },
  {
   "cell_type": "markdown",
   "metadata": {},
   "source": [
    "5.3. Оператор цикла for\n",
    "\n",
    "Циклы в программировании используются для многократного выполнения опреде\n",
    "\n",
    "ленного блока кода. Цикл for в Python выполняет итерацию по элементам передан\n",
    "\n",
    "ной последовательности (списка или строки) в том порядке, в котором они в этой\n",
    "\n",
    "последовательности представлены (рис. 5 .5). (Термин «итерация» означает повто\n",
    "\n",
    "рение процесса.)"
   ]
  },
  {
   "cell_type": "code",
   "execution_count": null,
   "metadata": {},
   "outputs": [],
   "source": [
    "words = [\"cat\", \"window\"]\n",
    "for w_i in words:\n",
    "    print(w_i, len(w_i))"
   ]
  }
 ],
 "metadata": {
  "kernelspec": {
   "display_name": "base",
   "language": "python",
   "name": "python3"
  },
  "language_info": {
   "codemirror_mode": {
    "name": "ipython",
    "version": 3
   },
   "file_extension": ".py",
   "mimetype": "text/x-python",
   "name": "python",
   "nbconvert_exporter": "python",
   "pygments_lexer": "ipython3",
   "version": "3.12.4"
  }
 },
 "nbformat": 4,
 "nbformat_minor": 2
}
