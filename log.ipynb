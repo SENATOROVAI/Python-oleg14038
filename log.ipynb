{
 "cells": [
  {
   "cell_type": "markdown",
   "metadata": {},
   "source": [
    "18.04.2023 = Изуали GitHub\n",
    "Изучали Алгормы структуру данных \n",
    "15.05.2023\t"
   ]
  },
  {
   "cell_type": "code",
   "execution_count": null,
   "metadata": {},
   "outputs": [],
   "source": [
    "ДАТА 15.04.23\n",
    "18.04.2023 = Изуали GitHub \n",
    "Изучали Алгормы структуру данных 15.05.2023\n",
    "ДАТА 22.10.23\n",
    "1) Как вызвать метод!\n",
    "2) Узал что такое class\n",
    "ДАТА 19.1.24\n",
    "1)Написание алгоритма по отправке  git запросов      \n",
    "2)Практические занятие в git \n"
   ]
  }
 ],
 "metadata": {
  "kernelspec": {
   "display_name": "Python 3",
   "language": "python",
   "name": "python3"
  },
  "language_info": {
   "name": "python",
   "version": "3.11.5"
  }
 },
 "nbformat": 4,
 "nbformat_minor": 2
}
