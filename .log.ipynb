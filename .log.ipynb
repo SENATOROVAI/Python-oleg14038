{
    "cells": [
        {
            "cell_type": "code",
            "execution_count": 1,
            "metadata": {},
            "outputs": [
                {
                    "data": {
                        "text/plain": [
                            "'GitHub и структуры данных: 18.04.2023 и 15.05.2023.'"
                        ]
                    },
                    "execution_count": 1,
                    "metadata": {},
                    "output_type": "execute_result"
                }
            ],
            "source": [
                "\"\"\"GitHub и структуры данных: 18.04.2023 и 15.05.2023.\"\"\""
            ]
        },
        {
            "cell_type": "markdown",
            "metadata": {},
            "source": [
                "18.04.2023 = Изуали GitHub\n",
                "Изучали Алгормы структуру данных \n",
                "15.05.2023\t"
            ]
        },
        {
            "cell_type": "markdown",
            "metadata": {},
            "source": [
                "ДАТА 15.04.23\n",
                "18.04.2023 = Изуали GitHub \n",
                "Изучали Алгормы структуру данных 15.05.2023\n",
                "ДАТА 22.10.23\n",
                "1) Как вызвать метод!\n",
                "2) Узал что такое class\n",
                "ДАТА 19.1.24\n",
                "1)Написание алгоритма по отправке  git запросов      \n",
                "2)Практические занятие в git \n",
                "Дата 02.08.2024\n",
                "1)Исправляли ошибки \n",
                "2)Работа VS code \n",
                "3)Исправление конфликтов "
            ]
        },
        {
            "cell_type": "markdown",
            "metadata": {},
            "source": [
                "Date 08/31/24 error correction"
            ]
        }
    ],
    "metadata": {
        "kernelspec": {
            "display_name": "Python 3",
            "language": "python",
            "name": "python3"
        },
        "language_info": {
            "codemirror_mode": {
                "name": "ipython",
                "version": 3
            },
            "file_extension": ".py",
            "mimetype": "text/x-python",
            "name": "python",
            "nbconvert_exporter": "python",
            "pygments_lexer": "ipython3",
            "version": "3.11.5"
        }
    },
    "nbformat": 4,
    "nbformat_minor": 2
}
