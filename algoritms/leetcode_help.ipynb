{
 "cells": [
  {
   "cell_type": "code",
   "execution_count": 1,
   "metadata": {},
   "outputs": [
    {
     "name": "stdout",
     "output_type": "stream",
     "text": [
      "fl\n"
     ]
    }
   ],
   "source": [
    "def longestCommonPrefix(strs):\n",
    "    if (\n",
    "            not strs\n",
    "    ):  # 1. `if not strs:`: Это условие проверяет, является ли массив `strs` пустым. Если да, то\n",
    "\n",
    "        return \"\"  # возвращается пустая строка.\n",
    "    prefix = strs[\n",
    "        # Инициализируйте префикс переменной начальным значением, равным первой строке в массиве strs[0].\n",
    "        0]\n",
    "\n",
    "    for string in strs[\n",
    "            # Перебрать остальные строки массива strs, начиная со второй строки (индекс 1).\n",
    "            1:]:\n",
    "        while (\n",
    "                string.find(prefix) != 0\n",
    "        ):  # Задаем условие цкла: пока индекс вхождения нашего префика не равен 0, т.к. если он будет равен 0, то мы нашли совпадение\n",
    "            prefix = prefix[:\n",
    "                            -1]  # удаляем последнюю букву в пр и заново проверяем вхождение\n",
    "            if (\n",
    "                    not prefix\n",
    "            ):  # если удаление последней буквы происходит до момента пока все слово не удалится\n",
    "                return \"\"  # то такого преф и нет\n",
    "\n",
    "    return prefix\n",
    "\n",
    "\n",
    "print(longestCommonPrefix([\"flower\", \"flow\", \"flight\"]))"
   ]
  },
  {
   "cell_type": "code",
   "execution_count": null,
   "metadata": {},
   "outputs": [],
   "source": []
  }
 ],
 "metadata": {
  "kernelspec": {
   "display_name": "base",
   "language": "python",
   "name": "python3"
  },
  "language_info": {
   "codemirror_mode": {
    "name": "ipython",
    "version": 3
   },
   "file_extension": ".py",
   "mimetype": "text/x-python",
   "name": "python",
   "nbconvert_exporter": "python",
   "pygments_lexer": "ipython3",
   "version": "3.11.5"
  }
 },
 "nbformat": 4,
 "nbformat_minor": 2
}
