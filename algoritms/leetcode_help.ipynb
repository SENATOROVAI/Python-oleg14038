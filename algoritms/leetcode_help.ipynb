{
 "cells": [
  {
   "cell_type": "code",
   "execution_count": null,
   "metadata": {},
   "outputs": [],
   "source": [
    "#https://leetcode.com/problems/longest-common-prefix/\n",
    "class Solution:\n",
    "    def longestCommonPrefix(self, strs):\n",
    "        if not strs: #1. `if not strs:`: Это условие проверяет, является ли массив `strs` пустым. Если да, то \n",
    "\n",
    "            return \"\"# возвращается пустая строка.\n",
    "        prefix = strs[0] #Инициализируйте префикс переменной начальным значением, равным первой строке в массиве strs[0].\n",
    "        for string in strs[1:]: #Перебрать остальные строки массива strs, начиная со второй строки (индекс 1).\n",
    "            while string.find(prefix) != 0: # Обясните пожалуста подробно  ? ?\n",
    "                prefix = prefix[:-1]  # Обясните пожалуста подробно  ?\n",
    "                if not prefix: # Обясните пожалуста подробно  ? ?\n",
    "                    return \"\" # Обясните пожалуста подробно  ? ?\n",
    "                    print('we')\n",
    "        return prefix\n",
    "        print('rtg')\n",
    "strs = ['Flower', 'flight', 'flow']\n",
    "\n"
   ]
  },
  {
   "cell_type": "code",
   "execution_count": null,
   "metadata": {},
   "outputs": [],
   "source": []
  }
 ],
 "metadata": {
  "language_info": {
   "name": "python"
  }
 },
 "nbformat": 4,
 "nbformat_minor": 2
}
