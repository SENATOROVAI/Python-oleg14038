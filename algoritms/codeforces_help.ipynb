{
 "cells": [
  {
   "cell_type": "code",
   "execution_count": null,
   "metadata": {},
   "outputs": [],
   "source": [
    "# https://codeforces.com/problemset/problem/50/A\n",
    "\n",
    "list1 = input() # не пониманию что значит инпут\n",
    "a,b = [int(i) for i in list1.split()] # помогите что здесь происходит?\n",
    "print(int(a*b/2))"
   ]
  }
 ],
 "metadata": {
  "language_info": {
   "name": "python"
  }
 },
 "nbformat": 4,
 "nbformat_minor": 2
}
