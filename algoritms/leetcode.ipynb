{
 "cells": [
  {
   "cell_type": "code",
   "execution_count": 8,
   "metadata": {},
   "outputs": [
    {
     "data": {
      "text/plain": [
       "[309.65, 97.7]"
      ]
     },
     "execution_count": 8,
     "metadata": {},
     "output_type": "execute_result"
    }
   ],
   "source": [
    "# link promlems: https://leetcode.com/problems/convert-the-temperature/\n",
    "\n",
    "# Kelvin = Celsius + 273.15\n",
    "# Fahrenheit = Celsius * 1.80 + 32.00\n",
    "# Input: celsius = 36.50\n",
    "# Output: [309.65000, 97.70000]\n",
    "\n",
    "from typing import List\n",
    "\n",
    "celsius = 36.50\n",
    "\n",
    "class Solution:\n",
    "    def convertTemperature(self, celsius: float) -> List[float]:\n",
    "        return [celsius + 273.15, celsius * 1.80 + 32.00]\n",
    "\n",
    "SENATOROV_subscribe = Solution() # создание объекта / экземпляра класса\n",
    "SENATOROV_subscribe.convertTemperature(celsius) # Вызываем метод объекта \n",
    "\n"
   ]
  },
  {
   "cell_type": "code",
   "execution_count": null,
   "metadata": {},
   "outputs": [],
   "source": [
    "#https://leetcode.com/problems/longest-common-prefix/\n",
    "class Solution:\n",
    "    def longestCommonPrefix(self, strs):\n",
    "        if not strs: #Если входной массив strs пуст, верните пустую строку, поскольку общего префикса нет.\n",
    "            return \"\"\n",
    "        prefix = strs[0] #Инициализируйте префикс переменной начальным значением, равным первой строке в массиве strs[0].\n",
    "        for string in strs[1:]: #Перебрать остальные строки массива strs, начиная со второй строки (индекс 1).\n",
    "            while string.find(prefix) != 0:\n",
    "                prefix = prefix[:-1]\n",
    "                if not prefix:\n",
    "                    return \"\"\n",
    "                    print('we')\n",
    "        return prefix\n",
    "        print('rtg')\n",
    "strs = ['Flower', 'flight', 'flow']\n",
    "\n"
   ]
  },
  {
   "cell_type": "code",
   "execution_count": null,
   "metadata": {},
   "outputs": [],
   "source": [
    "from typing import List\n",
    "\n",
    "\n",
    "#class ClassSolutin:(Parametr)\n",
    "#class ClassSolutin:# объявляем  класс \n",
    "#    nums = [7, 2, 11, 15]\n",
    "#    target = 9\n",
    "#    def twoSum(self, nums: List[int], target: int,) -> List[int]:\n",
    "#        for i in range(len(nums)): #Первый for проходиться по всем элемнентам, len - проверяем длинну массива (nums), range - переберает от 0 до 3 элемента нашего массива, i - указывает на первый элементам\n",
    "#            for j in range(len(nums)): #После 1 прохождения for, for проходить еще раз,  j - указывает на первый элемент массива \n",
    "#                if nums[i] + nums[j] == target and i != j: #складываем элементы массива, если они в сумму доют 9 и элементы массива не равны \n",
    "#                   return[i,j] #возращаем элементы \n",
    "#        return[] # None \n",
    "#c = ClassSolutin() # экземпляр класса Child \n",
    "#c.twoSum() #метод переопределен классом наследнико\n",
    "\n",
    "\n",
    "# Хочу вывести два элемнта массива которые я складывю и получаю ответ, правильно ли делаю ?\n",
    "                                  # И не могу понять почему ошбка, я так понял что это систексис ? \n",
    "\n",
    "\n",
    "class ClassSolutin:# объявляем  класс\n",
    "    def twoSum(self, nums: List[int], target: int,) -> List[int]: \n",
    "        hashmap = {}# 2 : 0 \n",
    "                     # 6 : 1\n",
    "                     # 5 : 2 \n",
    "                     # 8 : 3 \n",
    "                     #11 :for i in range(len(nums)):\n",
    "        for i in range(len(nums)):\n",
    "             hashmap[[i]] = i \n",
    "        print(hashmap)\n",
    "        for i in range(len(nums)):\n",
    "            complent = target - nums[i]#Пример: получаем 12 \n",
    "            if complent in hashmap and i != hashmap(complent):#Проверяем есть ли 12 в нашешем hashamp b и не пытаемся вернуть одно и тоже число - i != hashmap(complent)  \n",
    "                return[i, hashmap[complent]]\n",
    "            hashmap[nums[i]] = i \n",
    "\n",
    "\n"
   ]
  },
  {
   "cell_type": "markdown",
   "metadata": {},
   "source": [
    "Учитывая целочисленный массив nums, верните true, если какое-либо значение появляется в массиве по крайней мере дважды, и верните false, если каждый элемент различен."
   ]
  },
  {
   "cell_type": "code",
   "execution_count": null,
   "metadata": {},
   "outputs": [],
   "source": [
    "#\n",
    "# На вход подоеться список nusm = [1, 2, 3, 1]\n",
    "# Если хоть одно повторяеться нужно вернуть True \n",
    "def containsDuplicate(self, nums) -> bool:\n",
    "    for nums in known:\n",
    "        if nums in known:# \n",
    "            return 'True' # Вернет True если найдет дублекаты \n",
    "        else:\n",
    "            return 'False'\n",
    "\n",
    "known = set() #Set это такая колекция которая хранит в себе уникальные значения  \n",
    "\n",
    "print(known)\n"
   ]
  }
 ],
 "metadata": {
  "kernelspec": {
   "display_name": "Python 3",
   "language": "python",
   "name": "python3"
  },
  "language_info": {
   "codemirror_mode": {
    "name": "ipython",
    "version": 3
   },
   "file_extension": ".py",
   "mimetype": "text/x-python",
   "name": "python",
   "nbconvert_exporter": "python",
   "pygments_lexer": "ipython3",
   "version": "3.11.5"
  },
  "orig_nbformat": 4
 },
 "nbformat": 4,
 "nbformat_minor": 2
}
