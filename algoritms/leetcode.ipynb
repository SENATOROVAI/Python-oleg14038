{
 "cells": [
  {
   "cell_type": "code",
   "execution_count": 13,
   "metadata": {},
   "outputs": [
    {
     "data": {
      "text/plain": [
       "[309.65, 97.7]"
      ]
     },
     "execution_count": 13,
     "metadata": {},
     "output_type": "execute_result"
    }
   ],
   "source": [
    "# link promlems: https://leetcode.com/problems/convert-the-temperature/\n",
    "\n",
    "# Kelvin = Celsius + 273.15\n",
    "# Fahrenheit = Celsius * 1.80 + 32.00\n",
    "# Input: celsius = 36.50\n",
    "# Output: [309.65000, 97.70000]\n",
    "\n",
    "from typing import List\n",
    "\n",
    "celsius = 36.50\n",
    "\n",
    "\n",
    "class Solution:\n",
    "\n",
    "    def convertTemperature(self, celsius: float) -> List[float]:\n",
    "        return [celsius + 273.15, celsius * 1.80 + 32.00]\n",
    "\n",
    "\n",
    "SENATOROV_subscribe = Solution()  # создание объекта / экземпляра класса\n",
    "SENATOROV_subscribe.convertTemperature(celsius)  # Вызываем метод объекта"
   ]
  },
  {
   "cell_type": "code",
   "execution_count": 14,
   "metadata": {},
   "outputs": [],
   "source": [
    "# https://leetcode.com/problems/longest-common-prefix/\n",
    "\n",
    "\n",
    "class Solution:\n",
    "\n",
    "    def longestCommonPrefix(self, strs):\n",
    "        if (\n",
    "                not strs\n",
    "        ):  # 1. `if not strs:`: Это условие проверяет, является ли массив `strs` пустым. Если да, то\n",
    "\n",
    "            return \"\"  # возвращается пустая строка.\n",
    "        prefix = strs[\n",
    "            # Инициализируйте префикс переменной начальным значением, равным первой строке в массиве strs[0].\n",
    "            0]\n",
    "        for string in strs[\n",
    "                # Перебрать остальные строки массива strs, начиная со второй строки (индекс 1).\n",
    "                1:]:\n",
    "            while string.find(prefix) != 0:\n",
    "                prefix = prefix[:-1]\n",
    "                if not prefix:\n",
    "                    return \"\"\n",
    "                    print(\"we\")\n",
    "        return prefix\n",
    "        print(\"rtg\")\n",
    "\n",
    "\n",
    "strs = [\"Flower\", \"flight\", \"flow\"]"
   ]
  },
  {
   "cell_type": "code",
   "execution_count": 15,
   "metadata": {},
   "outputs": [],
   "source": [
    "# class ClassSolutin:(Parametr)\n",
    "# class ClassSolutin:# объявляем  класс\n",
    "#    nums = [7, 2, 11, 15]\n",
    "#    target = 9\n",
    "#    def twoSum(self, nums: List[int], target: int,) -> List[int]:\n",
    "#        for i in range(len(nums)): #Первый for проходиться по всем элемнентам, len - проверяем длинну массива (nums), range - переберает от 0 до 3 элемента нашего массива, i - указывает на первый элементам\n",
    "#            for j in range(len(nums)): #После 1 прохождения for, for проходить еще раз,  j - указывает на первый элемент массива\n",
    "#                if nums[i] + nums[j] == target and i != j: #складываем элементы массива, если они в сумму доют 9 и элементы массива не равны\n",
    "#                   return[i,j] #возращаем элементы\n",
    "#        return[] # None\n",
    "# c = ClassSolutin() # экземпляр класса Child\n",
    "# c.twoSum() #метод переопределен классом наследнико\n",
    "\n",
    "# Хочу вывести два элемнта массива которые я складывю и получаю ответ, правильно ли делаю ?\n",
    "# И не могу понять почему ошбка, я так понял что это систексис ?\n",
    "\n",
    "\n",
    "class ClassSolutin:  # объявляем  класс\n",
    "\n",
    "    def twoSum(\n",
    "        self,\n",
    "        nums: List[int],\n",
    "        target: int,\n",
    "    ) -> List[int]:\n",
    "        hashmap = {}  # 2 : 0\n",
    "        # 6 : 1\n",
    "        # 5 : 2\n",
    "        # 8 : 3\n",
    "        # 11 :for i in range(len(nums)):\n",
    "        for i in range(len(nums)):\n",
    "            hashmap[[i]] = i\n",
    "        print(hashmap)\n",
    "        for i in range(len(nums)):\n",
    "            complent = target - nums[i]  # Пример: получаем 12\n",
    "            if complent in hashmap and i != hashmap(\n",
    "                    complent\n",
    "                # Проверяем есть ли 12 в нашешем hashamp b и не пытаемся вернуть одно и тоже число - i != hashmap(complent)\n",
    "            ):\n",
    "                return [i, hashmap[complent]]\n",
    "            hashmap[nums[i]] = i"
   ]
  },
  {
   "cell_type": "markdown",
   "metadata": {},
   "source": [
    "Учитывая целочисленный массив nums, верните true, если какое-либо значение появляется в массиве по крайней мере дважды, и верните false, если каждый элемент различен."
   ]
  },
  {
   "cell_type": "code",
   "execution_count": 16,
   "metadata": {},
   "outputs": [
    {
     "name": "stdout",
     "output_type": "stream",
     "text": [
      "set()\n"
     ]
    }
   ],
   "source": [
    "#\n",
    "# На вход подоеться список nums = [1, 2, 3, 1]\n",
    "# Если хоть одно повторяеться нужно вернуть True\n",
    "\n",
    "\n",
    "def containsDuplicate(self, nums) -> bool:\n",
    "    for nums in known:\n",
    "        if nums in known:  #\n",
    "            return \"True\"  # Вернет True если найдет дублекаты\n",
    "        else:\n",
    "            return \"False\"\n",
    "\n",
    "\n",
    "nums = [1, 2, 3, 1]\n",
    "known = set(\n",
    ")  # Set это такая колекция которая хранит в себе уникальные значения\n",
    "\n",
    "print(known)"
   ]
  },
  {
   "cell_type": "markdown",
   "metadata": {},
   "source": [
    "https://leetcode.com/problems/best-time-to-buy-and-sell-stock/"
   ]
  },
  {
   "cell_type": "code",
   "execution_count": 17,
   "metadata": {},
   "outputs": [],
   "source": [
    "class Solutin:  # объявляем  класс\n",
    "\n",
    "    def maxProfit(self, prices: List[int]) -> int:\n",
    "        min_prace = float(\"inf\")  # В этой переменной сохраняем мин цену\n",
    "        max_profit = float(\"inf\")  # В этой макс профит\n",
    "\n",
    "        for p in prices:  # prices = [7,1,5,3,6,4]\n",
    "            min_prace = min(min_prace, p)  #\n",
    "            max_profit = max(max_profit, p - min_prace)\n",
    "\n",
    "        return max_profit"
   ]
  },
  {
   "cell_type": "code",
   "execution_count": 2,
   "metadata": {},
   "outputs": [
    {
     "name": "stdout",
     "output_type": "stream",
     "text": [
      "[8, 12, 24]\n"
     ]
    }
   ],
   "source": [
    "# https://leetcode.com/problems/product-of-array-except-self/\n",
    "\n",
    "\n",
    "class Solution:\n",
    "\n",
    "    def productExceptSelf(self, nums: List[int]) -> List[int]:\n",
    "        nums = [1, 2, 3, 4]\n",
    "        ans = [1]\n",
    "        for i in range(1, len(nums)):\n",
    "            ans.append(ans[-1] * nums[i - 1])  # [1, 1 , 2, 6] ?????\n",
    "\n",
    "        cur = 1\n",
    "        for i in range(len(nums) - 2, -1, -1):  # ??????\n",
    "            cur *= nums[i + 1]\n",
    "            ans[i] *= cur\n",
    "\n",
    "        return ans\n",
    "\n",
    "\n",
    "nums = [1, 2, 3, 4]\n",
    "ans = [1]\n",
    "for i in range(1, len(nums)):\n",
    "    ans.append(ans[-1] * nums[i - 1])  # [1, 1 , 2, 6] ?????\n",
    "list = []\n",
    "cur = 1\n",
    "for i in range(len(nums) - 2, -1, -1):\n",
    "    cur *= nums[i + 1]\n",
    "    list1 = ans[i] * cur\n",
    "    list.append(list1)\n",
    "\n",
    "print(list)"
   ]
  }
 ],
 "metadata": {
  "kernelspec": {
   "display_name": "Python 3",
   "language": "python",
   "name": "python3"
  },
  "language_info": {
   "codemirror_mode": {
    "name": "ipython",
    "version": 3
   },
   "file_extension": ".py",
   "mimetype": "text/x-python",
   "name": "python",
   "nbconvert_exporter": "python",
   "pygments_lexer": "ipython3",
   "version": "3.11.7"
  },
  "orig_nbformat": 4
 },
 "nbformat": 4,
 "nbformat_minor": 2
}
