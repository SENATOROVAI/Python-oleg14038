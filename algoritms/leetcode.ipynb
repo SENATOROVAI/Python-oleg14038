{
 "cells": [
  {
   "cell_type": "code",
   "execution_count": 3,
   "metadata": {},
   "outputs": [],
   "source": [
    "from typing import List"
   ]
  },
  {
   "cell_type": "code",
   "execution_count": 4,
   "metadata": {},
   "outputs": [
    {
     "name": "stdout",
     "output_type": "stream",
     "text": [
      "[309.65, 97.7]\n"
     ]
    }
   ],
   "source": [
    "\"\"\"\n",
    "Модуль для преобразования температуры из градусов.\n",
    "Цельсия в Кельвины и Фаренгейты.\n",
    "\n",
    "Класс:\n",
    "- Solution: Содержит метод convertTemperature.\n",
    "для преобразования температуры.\n",
    "\n",
    "Методы:\n",
    "- convertTemperature(celsius: float) -> List[float]:.\n",
    "Преобразует температуру из градусов Цельсия в Кельвины и Фаренгейты.\n",
    "\"\"\"\n",
    "\n",
    "from typing import List\n",
    "\n",
    "\n",
    "class Solution:\n",
    "    def convertTemperature(self, celsius: float) -> List[float]:\n",
    "        \"\"\"\n",
    "        Преобразует температуру из градусов Цельсия в Кельвины и Фаренгейты.\n",
    "\n",
    "        Параметры:\n",
    "        celsius (float): Температура в градусах Цельсия.\n",
    "\n",
    "        Возвращает:\n",
    "        List[float]: Список с двумя значениями:\n",
    "            - Температура в Кельвинах.\n",
    "            - Температура в Фаренгейтах.\n",
    "        \"\"\"\n",
    "        return [celsius + 273.15, celsius * 1.80 + 32.00]\n",
    "\n",
    "\n",
    "# Создание объекта класса\n",
    "solution_instance = Solution()\n",
    "\n",
    "# Входное значение температуры в градусах Цельсия\n",
    "celsius = 36.50\n",
    "\n",
    "# Вызов метода объекта и вывод результата\n",
    "result = solution_instance.convertTemperature(celsius)\n",
    "print(result)  # Вывод: [309.65, 97.7]"
   ]
  },
  {
   "cell_type": "markdown",
   "metadata": {},
   "source": [
    "# https://leetcode.com/problems/longest-common-prefix/"
   ]
  },
  {
   "cell_type": "code",
   "execution_count": 8,
   "metadata": {},
   "outputs": [
    {
     "name": "stdout",
     "output_type": "stream",
     "text": [
      "\n"
     ]
    }
   ],
   "source": [
    "\"\"\"\n",
    "Модуль для нахождения самого длинного общего префикса среди строк в массиве.\n",
    "\n",
    "Класс:\n",
    "- LongestCommonPrefixSolver: Содержит метод longestCommonPrefix.\n",
    "для нахождения самого длинного общего префикса.\n",
    "\n",
    "Методы:\n",
    "- longestCommonPrefix(strs: List[str]) -> str:.\n",
    "Возвращает самый длинный общий префикс среди строк в массиве.\n",
    "\"\"\"\n",
    "\n",
    "from typing import List\n",
    "\n",
    "\n",
    "class LongestCommonPrefixSolver:\n",
    "    def longestCommonPrefix(self, strs: List[str]) -> str:\n",
    "        \"\"\"\n",
    "        Находит самый длинный общий префикс среди строк в массиве.\n",
    "\n",
    "        Параметры:\n",
    "        strs (List[str]): Список строк, среди которых нужно найти общий префикс.\n",
    "\n",
    "        Возвращает:\n",
    "        str: Самый длинный общий префикс. Если общего префикса нет.\n",
    "        возвращается пустая строка.\n",
    "        \"\"\"\n",
    "        if not strs:\n",
    "            return \"\"\n",
    "\n",
    "        prefix = strs[0]  # Инициализация префикса первой строкой в списке\n",
    "        for string in strs[1:]:  # Перебор остальных строк\n",
    "            while not string.startswith(prefix):\n",
    "                prefix = prefix[:-1]  # Убираем последний символ префикса\n",
    "                if not prefix:\n",
    "                    return \"\"\n",
    "        return prefix\n",
    "\n",
    "\n",
    "# Пример использования\n",
    "\n",
    "\n",
    "strs = [\"Flower\", \"flight\", \"flow\"]\n",
    "\n",
    "# Создание объекта класса и вызов метода\n",
    "solver = LongestCommonPrefixSolver()\n",
    "result = solver.longestCommonPrefix(strs)\n",
    "print(result)  # Ожидаемый вывод: \"fl\""
   ]
  },
  {
   "cell_type": "markdown",
   "metadata": {},
   "source": [
    "Учитывая целочисленный массив nums, верните true, если какое-либо значение появляется в массиве по крайней мере дважды, и верните false, если каждый элемент различен."
   ]
  },
  {
   "cell_type": "code",
   "execution_count": 10,
   "metadata": {},
   "outputs": [
    {
     "name": "stdout",
     "output_type": "stream",
     "text": [
      "True\n"
     ]
    }
   ],
   "source": [
    "def containsDuplicate(nums) -> bool:\n",
    "    \"\"\"\n",
    "    Проверяет, содержит ли список дубликаты.\n",
    "\n",
    "    Параметры:\n",
    "    nums (List[int]):\n",
    "    Список чисел для проверки на наличие дубликатов.\n",
    "\n",
    "    Возвращает:\n",
    "    bool: True, если дубликаты присутствуют, иначе False.\n",
    "    \"\"\"\n",
    "    seen = set()  # Множество для хранения уникальных значений\n",
    "    for num in nums:\n",
    "        if num in seen:  # Если число уже есть в множестве\n",
    "            return True  # Найдены дубликаты\n",
    "        seen.add(num)  # Добавляем число в множество\n",
    "    return False  # Дубликаты не найдены\n",
    "\n",
    "\n",
    "# Пример использования\n",
    "nums = [1, 2, 3, 1]\n",
    "print(containsDuplicate(nums))  # Ожидаемый вывод: True"
   ]
  },
  {
   "cell_type": "markdown",
   "metadata": {},
   "source": [
    "https://leetcode.com/problems/best-time-to-buy-and-sell-stock/"
   ]
  },
  {
   "cell_type": "code",
   "execution_count": 11,
   "metadata": {},
   "outputs": [
    {
     "name": "stdout",
     "output_type": "stream",
     "text": [
      "5\n"
     ]
    }
   ],
   "source": [
    "from typing import List\n",
    "\n",
    "\n",
    "class StockProfitCalculator:\n",
    "    def maxProfit(self, prices: List[int]) -> int:\n",
    "        \"\"\"\n",
    "        Находит максимальную прибыль от покупки и продажи акций.\n",
    "\n",
    "        Параметры:\n",
    "        prices (List[int]): Список цен акций.\n",
    "        где prices[i] — цена акций в день i.\n",
    "\n",
    "        Возвращает:\n",
    "        int: Максимальная возможная прибыль.\n",
    "        Если прибыль получить нельзя, возвращается 0.\n",
    "        \"\"\"\n",
    "        min_price = float(\"inf\")  # Минимальная цена акций\n",
    "        max_profit = 0  # Максимальная прибыль\n",
    "\n",
    "        for price in prices:\n",
    "            min_price = min(min_price, price)  # Обновляем минимальную цену\n",
    "            max_profit = max(\n",
    "                max_profit, price - min_price\n",
    "            )  # Обновляем максимальную прибыль\n",
    "\n",
    "        return max_profit\n",
    "\n",
    "\n",
    "# Пример использования\n",
    "prices = [7, 1, 5, 3, 6, 4]\n",
    "solution = StockProfitCalculator()\n",
    "print(solution.maxProfit(prices))  # Ожидаемый вывод: 5"
   ]
  },
  {
   "cell_type": "markdown",
   "metadata": {},
   "source": [
    "# https://leetcode.com/problems/product-of-array-except-self/\n"
   ]
  },
  {
   "cell_type": "code",
   "execution_count": 12,
   "metadata": {},
   "outputs": [
    {
     "name": "stdout",
     "output_type": "stream",
     "text": [
      "[24, 12, 8, 6]\n"
     ]
    }
   ],
   "source": [
    "from typing import List\n",
    "\n",
    "\n",
    "class ProductArrayCalculator:\n",
    "    def productExceptSelf(self, nums: List[int]) -> List[int]:\n",
    "        \"\"\"\n",
    "        Находит произведение всех элементов массива.\n",
    "        кроме текущего элемента, для каждого элемента.\n",
    "\n",
    "        Параметры:\n",
    "        nums (List[int]): Список целых чисел.\n",
    "\n",
    "        Возвращает:\n",
    "        List[int]: Список произведений всех элементов массива.\n",
    "        кроме текущего элемента.\n",
    "        \"\"\"\n",
    "        length = len(nums)\n",
    "        result = [1] * length\n",
    "\n",
    "        # Вычисляем префиксные произведения\n",
    "        for i in range(1, length):\n",
    "            result[i] = result[i - 1] * nums[i - 1]\n",
    "\n",
    "        # Вычисляем суффиксные произведения и завершаем расчет\n",
    "        suffix = 1\n",
    "        for i in range(length - 1, -1, -1):\n",
    "            result[i] *= suffix\n",
    "            suffix *= nums[i]\n",
    "\n",
    "        return result\n",
    "\n",
    "\n",
    "# Пример использования\n",
    "nums = [1, 2, 3, 4]\n",
    "calculator = ProductArrayCalculator()\n",
    "print(calculator.productExceptSelf(nums))  # Ожидаемый вывод: [24, 12, 8, 6]"
   ]
  }
 ],
 "metadata": {
  "kernelspec": {
   "display_name": "Python 3",
   "language": "python",
   "name": "python3"
  },
  "language_info": {
   "codemirror_mode": {
    "name": "ipython",
    "version": 3
   },
   "file_extension": ".py",
   "mimetype": "text/x-python",
   "name": "python",
   "nbconvert_exporter": "python",
   "pygments_lexer": "ipython3",
   "version": "3.11.5"
  },
  "orig_nbformat": 4
 },
 "nbformat": 4,
 "nbformat_minor": 2
}
