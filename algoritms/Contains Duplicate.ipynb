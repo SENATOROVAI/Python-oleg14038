{
 "cells": [
  {
   "cell_type": "markdown",
   "metadata": {},
   "source": [
    "Учитывая целочисленный массив nums, верните true, если какое-либо значение появляется в массиве по крайней мере дважды, и верните false, если каждый элемент различен."
   ]
  },
  {
   "cell_type": "code",
   "execution_count": 2,
   "metadata": {},
   "outputs": [
    {
     "name": "stdout",
     "output_type": "stream",
     "text": [
      "set()\n"
     ]
    }
   ],
   "source": [
    "# На вход подоеться список nusm = [1, 2, 3, 1]\n",
    "# Если хоть одно повторяеться нужно вернуть True \n",
    "def containsDuplicate(self, nums) -> bool:\n",
    "    for nums in known:\n",
    "        if nums in known:# \n",
    "            return 'True' # Вернет True если найдет дублекаты \n",
    "        else:\n",
    "            return 'False'\n",
    "\n",
    "known = set() #Set это такая колекция которая хранит в себе уникальные значения  \n",
    "\n",
    "print(known)\n"
   ]
  }
 ],
 "metadata": {
  "kernelspec": {
   "display_name": "Python 3",
   "language": "python",
   "name": "python3"
  },
  "language_info": {
   "codemirror_mode": {
    "name": "ipython",
    "version": 3
   },
   "file_extension": ".py",
   "mimetype": "text/x-python",
   "name": "python",
   "nbconvert_exporter": "python",
   "pygments_lexer": "ipython3",
   "version": "3.12.0"
  }
 },
 "nbformat": 4,
 "nbformat_minor": 2
}
