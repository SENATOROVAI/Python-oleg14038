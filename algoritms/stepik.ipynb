{
 "cells": [
  {
   "cell_type": "code",
   "execution_count": null,
   "metadata": {},
   "outputs": [],
   "source": [
    "https://stepik.org/lesson/375661/step/9?unit=363411\n",
    "\n",
    "workers = [['Ivan', 'Ivanov', 100000, 2], ['Petr', 'Petrov', 150000, 2], ['Sidor', 'Sidorov', 200000, 3]]\n",
    "\n",
    "m = ['Ivan', 'Ivanov', 100000, 2, 'Petr', 'Petrov', 150000, 2, 'Sidor', 'Sidorov', 200000, 3]\n",
    "\n",
    "if m[3] > 2:\n",
    "    print('junior')\n",
    "if m[7]>= 2:\n",
    "    print('middle')\n",
    "if m[11]<5:\n",
    "    print('senior')"
   ]
  }
 ],
 "metadata": {
  "language_info": {
   "name": "python"
  }
 },
 "nbformat": 4,
 "nbformat_minor": 2
}
