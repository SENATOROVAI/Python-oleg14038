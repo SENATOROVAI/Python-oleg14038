{
 "cells": [
  {
   "cell_type": "code",
   "execution_count": 19,
   "metadata": {},
   "outputs": [],
   "source": [
    "class Solution:\n",
    "    def longestCommonPrefix(self, strs):\n",
    "        if not strs: #Если входной массив strs пуст, верните пустую строку, поскольку общего префикса нет.\n",
    "            return \"\"\n",
    "        prefix = strs[0] #Инициализируйте префикс переменной начальным значением, равным первой строке в массиве strs[0].\n",
    "        for string in strs[1:]: #Перебрать остальные строки массива strs, начиная со второй строки (индекс 1).\n",
    "            while string.find(prefix) != 0:\n",
    "                prefix = prefix[:-1]\n",
    "                if not prefix:\n",
    "                    return \"\"\n",
    "                    print('we')\n",
    "        return prefix\n",
    "        print('rtg')\n",
    "strs = ['Flower', 'flight', 'flow']\n"
   ]
  },
  {
   "cell_type": "markdown",
   "metadata": {},
   "source": [
    "https://leetcode.com/problems/longest-common-prefix/"
   ]
  }
 ],
 "metadata": {
  "kernelspec": {
   "display_name": "Python 3",
   "language": "python",
   "name": "python3"
  },
  "language_info": {
   "codemirror_mode": {
    "name": "ipython",
    "version": 3
   },
   "file_extension": ".py",
   "mimetype": "text/x-python",
   "name": "python",
   "nbconvert_exporter": "python",
   "pygments_lexer": "ipython3",
   "version": "3.12.0"
  }
 },
 "nbformat": 4,
 "nbformat_minor": 2
}
