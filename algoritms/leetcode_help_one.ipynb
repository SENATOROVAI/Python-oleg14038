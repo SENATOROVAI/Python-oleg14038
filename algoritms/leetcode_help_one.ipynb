{
 "cells": [
  {
   "cell_type": "code",
   "execution_count": null,
   "metadata": {},
   "outputs": [],
   "source": [
    "# https://leetcode.com/problems/product-of-array-except-self/\n",
    "from typing import List\n",
    "class Solution:\n",
    "    def productExceptSelf(self, nums: List[int]) -> List[int]:\n",
    "        nums = [1, 2, 3, 4] \n",
    "        ans = [1]\n",
    "        for i in range(1, len(nums)):\n",
    "            ans.append(ans[-1] * nums[i - 1]) # [1, 1 , 2, 6] => ans[-1] берём последний элемент списка и умножаем на каждый элемент этого списка nums[i - 1], -1 потому что мы начинаем с 0 индекса. \n",
    "\n",
    "        cur = 1 \n",
    "        for i in range(len(nums)-2, -1, -1):# ??????\n",
    "            cur *=nums[i + 1]\n",
    "            ans[i] *= cur   \n",
    "\n",
    "        return ans \n",
    "\n",
    "\n"
   ]
  }
 ],
 "metadata": {
  "language_info": {
   "name": "python"
  }
 },
 "nbformat": 4,
 "nbformat_minor": 2
}
