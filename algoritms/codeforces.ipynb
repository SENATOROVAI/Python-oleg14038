{
 "cells": [
  {
   "cell_type": "markdown",
   "metadata": {},
   "source": [
    "### https://codeforces.com/problemset?order=BY_RATING_ASC&tags=math\n"
   ]
  },
  {
   "cell_type": "code",
   "execution_count": null,
   "id": "5996ed53",
   "metadata": {},
   "outputs": [],
   "source": [
    "# https://codeforces.com/problemset/problem/4/A?locale=ru # \n",
    "w = int(input())\n",
    "\n",
    "if w % 2 == 0 and w > 2 :\n",
    "    print('yes')\n",
    "else:\n",
    "    print('no')\n",
    "   # Решение 1:\n",
    "\n",
    "weight = int(input())  # вводим вес арбуза\n",
    "if weight % 2 == 0 and weight > 2:  # если вес кратен 2 и больше 2\n",
    "    print(\"YES\")  # выводим \"YES\"\n",
    "else:\n",
    "    print(\"NO\")  # иначе выводим \"NO\"\n",
    "\n",
    "# Решение 2:\n",
    "\n",
    "weight = int(input())  # вводим вес арбуза\n",
    "if weight % 2 == 0:  # если вес кратен 2\n",
    "    if weight == 2:  # если вес равен 2\n",
    "        print(\"NO\")  # выводим \"NO\"\n",
    "    else:\n",
    "        print(\"YES\")  # иначе выводим \"YES\"\n",
    "else:\n",
    "    print(\"NO\")  # если вес не кратен 2, выводим \"NO\"\n",
    "\n",
    "# Решение 3:\n",
    "\n",
    "weight = int(input())  # вводим вес арбуза\n",
    "if weight % 2 == 0:  # если вес кратен 2\n",
    "    print(\"YES\") if weight > 2 else print(\"NO\")  # выводим \"YES\" если вес больше 2, иначе \"NO\"\n",
    "else:\n",
    "    print(\"NO\")  # если вес не кратен 2, выводим \"NO\"\n",
    "\n",
    "Каждое решение проверяет, является ли заданный вес арбуза (weight) четным числом и больше/равно 2. В первом решении используется оператор \"и\", во втором и третьем - вложенный условный оператор. Все три решения дают одинаковый результат в зависимости от условий."
   ]
  },
  {
   "cell_type": "code",
   "execution_count": null,
   "id": "c57f4a47",
   "metadata": {},
   "outputs": [],
   "source": [
    "# https://codeforces.com/problemset/problem/50/A\n",
    "\n",
    "list1 = input() # не пониманию что значит инпут\n",
    "a,b = [int(i) for i in list1.split()]\n",
    "print(int(a*b/2))\n",
    "\n",
    "\n"
   ]
  },
  {
   "cell_type": "code",
   "execution_count": null,
   "id": "e98b7fae",
   "metadata": {},
   "outputs": [],
   "source": [
    "\n",
    "print(eval(input().replace(' ','*'))//2)\n",
    "\n"
   ]
  },
  {
   "cell_type": "code",
   "execution_count": null,
   "metadata": {},
   "outputs": [],
   "source": []
  },
  {
   "cell_type": "markdown",
   "metadata": {},
   "source": [
    "https://codeforces.com/problemset?order=BY_RATING_ASC&tags=math\n"
   ]
  },
  {
   "cell_type": "code",
   "execution_count": null,
   "metadata": {},
   "outputs": [],
   "source": [
    "\n",
    "area = input()\n",
    "areaList = area.split(\" \")\n",
    "totalArea = int(areaList[0]) * int(areaList[1])\n",
    " \n",
    "print(totalArea//2)"
   ]
  },
  {
   "cell_type": "code",
   "execution_count": null,
   "metadata": {},
   "outputs": [],
   "source": [
    "m,n=(input().split())\n",
    "m=int(m)\n",
    "n=int(n)\n",
    "number=m*n//2\n",
    "print(number)\n"
   ]
  }
 ],
 "metadata": {
  "kernelspec": {
   "display_name": "Python 3 (ipykernel)",
   "language": "python",
   "name": "python3"
  },
  "language_info": {
   "codemirror_mode": {
    "name": "ipython",
    "version": 3
   },
   "file_extension": ".py",
   "mimetype": "text/x-python",
   "name": "python",
   "nbconvert_exporter": "python",
   "pygments_lexer": "ipython3",
   "version": "3.10.7"
  }
 },
 "nbformat": 4,
 "nbformat_minor": 5
}
