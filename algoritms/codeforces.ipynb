{
 "cells": [
  {
   "cell_type": "markdown",
   "metadata": {},
   "source": [
    "### https://codeforces.com/problemset?order=BY_RATING_ASC&tags=math\n"
   ]
  },
  {
   "cell_type": "code",
   "execution_count": null,
   "id": "5996ed53",
   "metadata": {},
   "outputs": [],
   "source": [
    "# https://codeforces.com/problemset/problem/4/A?locale=ru # \n",
    "w = int(input())\n",
    "\n",
    "if w % 2 == 0 and w > 2 :\n",
    "    print('yes')\n",
    "else:\n",
    "    print('no')\n",
    "   \n",
    "   # Решение 1:\n",
    "\n",
    "weight = int(input())  # вводим вес арбуза\n",
    "if weight % 2 == 0 and weight > 2:  # если вес кратен 2 и больше 2\n",
    "    print(\"YES\")  # выводим \"YES\"\n",
    "else:\n",
    "    print(\"NO\")  # иначе выводим \"NO\"\n",
    "\n",
    "# Решение 2:\n",
    "\n",
    "weight = int(input())  # вводим вес арбуза\n",
    "if weight % 2 == 0:  # если вес кратен 2\n",
    "    if weight == 2:  # если вес равен 2\n",
    "        print(\"NO\")  # выводим \"NO\"\n",
    "    else:\n",
    "        print(\"YES\")  # иначе выводим \"YES\"\n",
    "else:\n",
    "    print(\"NO\")  # если вес не кратен 2, выводим \"NO\"\n",
    "\n",
    "# Решение 3:\n",
    "\n",
    "weight = int(input())  # вводим вес арбуза\n",
    "if weight % 2 == 0:  # если вес кратен 2\n",
    "    print(\"YES\") if weight > 2 else print(\"NO\")  # выводим \"YES\" если вес больше 2, иначе \"NO\"\n",
    "else:\n",
    "    print(\"NO\")  # если вес не кратен 2, выводим \"NO\"\n",
    "\n",
    "Каждое решение проверяет, является ли заданный вес арбуза (weight) четным числом и больше/равно 2. В первом решении используется оператор \"и\", во втором и третьем - вложенный условный оператор. Все три решения дают одинаковый результат в зависимости от условий."
   ]
  },
  {
   "cell_type": "code",
   "execution_count": null,
   "id": "c57f4a47",
   "metadata": {},
   "outputs": [],
   "source": [
    "# https://codeforces.com/problemset/problem/50/A\n",
    "\n",
    "list1 = input() # не пониманию что значит инпут\n",
    "a,b = [int(i) for i in list1.split()]\n",
    "print(int(a*b/2))\n",
    "\n",
    "\n"
   ]
  },
  {
   "cell_type": "markdown",
   "metadata": {},
   "source": [
    "https://codeforces.com/problemset?order=BY_RATING_ASC&tags=math\n"
   ]
  },
  {
   "cell_type": "markdown",
   "id": "1a0f9854",
   "metadata": {},
   "source": []
  },
  {
   "cell_type": "code",
   "execution_count": null,
   "metadata": {},
   "outputs": [],
   "source": [
    "\n",
    "area = input()\n",
    "areaList = area.split(\" \")\n",
    "totalArea = int(areaList[0]) * int(areaList[1])\n",
    " \n",
    "print(totalArea//2)"
   ]
  },
  {
   "cell_type": "code",
   "execution_count": null,
   "metadata": {},
   "outputs": [],
   "source": [
    "m,n=(input().split())\n",
    "m=int(m)\n",
    "n=int(n)\n",
    "number=m*n//2\n",
    "print(number)\n"
   ]
  },
  {
   "cell_type": "code",
   "execution_count": 1,
   "id": "65d4e587",
   "metadata": {},
   "outputs": [
    {
     "ename": "ValueError",
     "evalue": "not enough values to unpack (expected 2, got 0)",
     "output_type": "error",
     "traceback": [
      "\u001b[1;31m---------------------------------------------------------------------------\u001b[0m",
      "\u001b[1;31mValueError\u001b[0m                                Traceback (most recent call last)",
      "Cell \u001b[1;32mIn[1], line 12\u001b[0m\n\u001b[0;32m      8\u001b[0m             count \u001b[38;5;241m+\u001b[39m\u001b[38;5;241m=\u001b[39m \u001b[38;5;241m1\u001b[39m  \u001b[38;5;66;03m# Увеличиваем счетчик, если участник проходит на следующий этап\u001b[39;00m\n\u001b[0;32m      9\u001b[0m     \u001b[38;5;28;01mreturn\u001b[39;00m count\n\u001b[1;32m---> 12\u001b[0m n, k \u001b[38;5;241m=\u001b[39m \u001b[38;5;28mmap\u001b[39m(\u001b[38;5;28mint\u001b[39m, \u001b[38;5;28minput\u001b[39m()\u001b[38;5;241m.\u001b[39msplit())\u001b[38;5;66;03m#Эта строка кода считывает ввод с клавиатуры и разделяет его на отдельные значения, используя отдельные значения, метод split() \u001b[39;00m\n\u001b[0;32m     13\u001b[0m                                 \u001b[38;5;66;03m#Затем она применяет функцию int() к каждому из значений, что-бы преобразовать их в целые числа \u001b[39;00m\n\u001b[0;32m     14\u001b[0m                                 \u001b[38;5;66;03m#Результат присваиваются переменной n и k \u001b[39;00m\n\u001b[0;32m     15\u001b[0m                                \u001b[38;5;66;03m# Предпологается, что ввод состоит из двух чисел, разделенных пробелом\u001b[39;00m\n\u001b[0;32m     16\u001b[0m                                 \u001b[38;5;66;03m#первое число представляет общее количество участников (n)\u001b[39;00m\n\u001b[0;32m     17\u001b[0m                                 \u001b[38;5;66;03m#а второе число представляет позицию интереса(k)\u001b[39;00m\n\u001b[0;32m     18\u001b[0m scores \u001b[38;5;241m=\u001b[39m \u001b[38;5;28mlist\u001b[39m(\u001b[38;5;28mmap\u001b[39m(\u001b[38;5;28mint\u001b[39m, \u001b[38;5;28minput\u001b[39m()\u001b[38;5;241m.\u001b[39msplit()))\n",
      "\u001b[1;31mValueError\u001b[0m: not enough values to unpack (expected 2, got 0)"
     ]
    }
   ],
   "source": [
    "#https://codeforces.com/problemset/problem/158/A\n",
    "def next_round(n, k, scores):\n",
    "    count = 0  # Инициализируем счетчик\n",
    "    for score in scores:# Здесь мы начинаем итерацию по списку scores и каждый элемент сохраняем в переменной score.\n",
    "        if score >= scores[k-1] and score > 0:   # Внутри цикла мы проверяем условие, где score обозначает балл текущего участника. \n",
    "                                                                                     # Условие score >= scores[k-1] проверяет, что балл текущего участника больше или равен баллу участника, находящегося на позиции k-1 в списке scores (это определяет границу прохождения на следующий этап). Кроме того, условие score > 0 проверяет, что балл больше 0, чтобы исключить недопустимые значения.\n",
    "                                                                                     #  Если оба условия выполняются, значит участник проходит на следующий этап.\n",
    "            count += 1  # Увеличиваем счетчик, если участник проходит на следующий этап\n",
    "    return count\n",
    "\n",
    "\n",
    "n, k = map(int, input().split())#Эта строка кода считывает ввод с клавиатуры и разделяет его на отдельные значения, используя отдельные значения, метод split() \n",
    "                                #Затем она применяет функцию int() к каждому из значений, что-бы преобразовать их в целые числа \n",
    "                                #Результат присваиваются переменной n и k \n",
    "                               # Предпологается, что ввод состоит из двух чисел, разделенных пробелом\n",
    "                                #первое число представляет общее количество участников (n)\n",
    "                                #а второе число представляет позицию интереса(k)\n",
    "scores = list(map(int, input().split()))\n",
    "count = next_round(n, k, scores)\n",
    "print(count)\n",
    "\n"
   ]
  },
  {
   "cell_type": "markdown",
   "id": "df195752",
   "metadata": {},
   "source": [
    "# https://codeforces.com/problemset/problem/50/A\n",
    "\n",
    "Условие задачи:\n",
    "Дана прямоугольная доска размером M×N клеток. В каждую клетку можно положить одну плитку домино размером 2×1. Необходимо найти максимальное количество плиток домино, которые можно разместить на доске, не нарушая ограничений.\n",
    "\n",
    "Ограничения:\n",
    "1 ≤ M ≤ 16,\n",
    "1 ≤ N ≤ 16.\n",
    "\n",
    "Разбор задачи:\n",
    "Для того, чтобы решить задачу, нужно проанализировать возможные случаи и найти общий паттерн. Нам дана прямоугольная доска размером M×N, и мы должны разместить на ней плитки домино.\n",
    "\n",
    "Поскольку размер плитки домино равен 2×1, то каждая плитка занимает две клетки доски. Таким образом, мы можем разместить плитку домино только в тех случаях, когда у нас есть достаточно места (т.е. когда M и N являются четными числами), или же когда одно из чисел (M или N) является нечетным, а другое - четным.\n",
    "\n",
    "Тогда для нахождения максимального количества плиток домино, мы можем применить следующую формулу:\n",
    "\n",
    "Максимальное количество плиток домино = (M * N) / 2, где М - количество строк, N - количество столбцов.\n",
    "\n",
    "Таким образом, мы можем найти ответ, используя данную формулу и значения M и N."
   ]
  },
  {
   "cell_type": "code",
   "execution_count": null,
   "id": "4db5f7ce",
   "metadata": {},
   "outputs": [],
   "source": [
    "# https://codeforces.com/problemset/problem/50/A\n",
    "\n",
    "list1 = input() # не пониманию что значит инпут\n",
    "a,b = [int(i) for i in list1.split()] # помогите что здесь происходит?\n",
    "print(int(a*b/2))\n",
    "\n",
    "#1. `list1 = input()` - в этой строке программы происходит запрос у пользователя на ввод данных. Введенные данные сохраняются в переменную `list1`. Функция `input()` ожидает ввода данных с клавиатуры и возвращает введенную строку.\n",
    "\n",
    "2. `a,b = [int(i) for i in list1.split()]` - в этой строке программы присваиваются значения переменным `a` и `b`. Происходит следующее:\n",
    "   - `list1.split()` разделяет строку `list1` на подстроки (слова), используя пробел в качестве разделителя. Результатом будет список слов, составляющих введенные данные.\n",
    "   - `int(i) for i in list1.split()` - для каждого элемента `i` из списка, полученного после разделения введенных данных, преобразует его в целое число с помощью функции `int()`.\n",
    "   - `[int(i) for i in list1.split()]` создает новый список, состоящий из целых чисел, полученных после преобразования каждого элемента списка введенных данных.\n",
    "   - `a, b = [int(i) for i in list1.split()]` - значения из списка целых чисел присваиваются переменным `a` и `b`.\n",
    "\n",
    "3. `print(int(a*b/2))` - в этой строке программы выводится результат вычисления и печатается на экране с помощью функции `print()`. Выражение `a*b/2` представляет собой вычисление половины произведения переменных `a` и `b`. Функция `int()` преобразует результат этого выражения в целое число перед его выводом на экран.\n",
    "\n",
    "\n",
    "# https://codeforces.com/problemset/problem/50/A\n",
    "\n",
    "M, N = map(int, input().split()) #1. Считывает размеры доски из входных данных и сохраняет их в переменных M и N.\n",
    "total_cell = M * N #2. Вычисляет общее количество клеток, умножая M на N и сохраняет результат в переменной total_cells.\n",
    "if total_cell % 2 == 0:#  Проверяет условие деления общего количества клеток на 2 без остатка. Если условие выполняется, то выводится половина от общего количества клеток.\n",
    "   print(total_cell//2)# противном случае (когда общее количество клеток не делится на 2 без остатка), выводится половина от общего количества клеток, увеличенная на 1\n",
    "else:\n",
    "   print((total_cell)+1)\n"
   ]
  },
  {
   "cell_type": "markdown",
   "id": "860c3535",
   "metadata": {},
   "source": [
    "https://codeforces.com/problemset/problem/617/A"
   ]
  },
  {
   "cell_type": "code",
   "execution_count": 11,
   "id": "57f148f4",
   "metadata": {},
   "outputs": [
    {
     "name": "stdout",
     "output_type": "stream",
     "text": [
      "1\n"
     ]
    }
   ],
   "source": [
    "x = int(input())\n",
    "\n",
    "if x % 5 == 0:\n",
    "    steps = x//5 \n",
    "else: \n",
    "    steps = x//5 + 1 \n",
    "print(steps)\n"
   ]
  },
  {
   "cell_type": "code",
   "execution_count": null,
   "metadata": {},
   "outputs": [],
   "source": [
    "# https://codeforces.com/problemset/problem/50/A\n",
    "\n",
    "print(eval('*'.join(input().split()))//2)\n",
    "\n",
    "\n",
    "\n",
    "a,b=map(int,input().split())\n",
    "print(a*b//2)\n",
    "\n",
    "\n",
    "def get_domino_amount(board):\n",
    "    domino_amount = 0\n",
    "    for i in range(len(board)):\n",
    "        for k in range(len(board[i])):\n",
    "            current_item = board[i][k]\n",
    "            if (len(current_item) == 0):\n",
    "                if (k < len(board[i]) - 1):\n",
    "                    next_item = board[i][k+1]\n",
    "                    if len(next_item) == 0:\n",
    "                        domino_amount += 1\n",
    "                        current_item.append(\"-\")\n",
    "                        next_item.append(\"-\")\n",
    "                elif (k == len(board[i]) - 1) and (i < len(board) - 1):\n",
    "                    below_item = board[i + 1][k]\n",
    "                    if len(below_item) == 0:\n",
    "                        domino_amount +=1\n",
    "                        current_item.append(\"|\")\n",
    "                        below_item.append(\"|\")\n",
    "\n",
    "    return domino_amount\n",
    "\n",
    "\n",
    "def main():\n",
    "    m, n = [int(i) for i in input().split()]\n",
    "    board = [[[] for k in range(m)] for i in range(n)]\n",
    "    amount = get_domino_amount(board)\n",
    "    print(amount)\n",
    "\n",
    "\n",
    "main()\n",
    "\n",
    "\n",
    "\n",
    "\n",
    "\n",
    "\n",
    "\n",
    "\n",
    "\n",
    "\n",
    "\n",
    "\n",
    "\n",
    "\n",
    "\n",
    "\n",
    "\n",
    "\n",
    "\n",
    "\n",
    " "
   ]
  },
  {
   "cell_type": "markdown",
   "id": "678b9431",
   "metadata": {},
   "source": []
  }
 ],
 "metadata": {
  "kernelspec": {
   "display_name": "Python 3 (ipykernel)",
   "language": "python",
   "name": "python3"
  },
  "language_info": {
   "codemirror_mode": {
    "name": "ipython",
    "version": 3
   },
   "file_extension": ".py",
   "mimetype": "text/x-python",
   "name": "python",
   "nbconvert_exporter": "python",
   "pygments_lexer": "ipython3",
   "version": "3.11.7"
  }
 },
 "nbformat": 4,
 "nbformat_minor": 5
}
