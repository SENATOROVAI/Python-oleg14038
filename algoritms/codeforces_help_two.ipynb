{
 "cells": [
  {
   "cell_type": "code",
   "execution_count": null,
   "metadata": {},
   "outputs": [],
   "source": [
    "def main():  # Не могу понять почему не указываеться аргумент в функции ?\n",
    "    x = int(\n",
    "        input()\n",
    "        # ввод пользователя с помощью input() и преобразует его в целое число с помощью int().\n",
    "    )\n",
    "    elephant_house = 0  # Затем она инициализирует переменные elephant_house\n",
    "    # (показывает текущее положение слона)\n",
    "    count = 0  # считает количество выполненных шагов).\n",
    "    if x <= 10**6 and x >= 1:  # которая гарантирует,\n",
    "        # что введенное значение находится в диапазоне от 1 до 10^6.\n",
    "        while (elephant_house\n",
    "               < x):  # while, который продолжается до тех пор, пока положение\n",
    "            # слона elephant_house не достигнет или превысит заданное значение x.\n",
    "            if x >= 5:  # Если x больше или равно 5 то\n",
    "                elephant_house += 5  # то слон делает 5 шагов вперед\n",
    "                count += 1  # и увеличивает +1 количество шагов\n",
    "            if x == 4:\n",
    "                elephant_house += 4\n",
    "                count += 1\n",
    "            if x == 3:\n",
    "                elephant_house += 3\n",
    "                count += 1\n",
    "            if x == 2:\n",
    "                elephant_house += 2\n",
    "                count += 1\n",
    "            if x == 1:\n",
    "                elephant_house += 1\n",
    "                count += 1\n",
    "    print(count)\n",
    "\n",
    "\n",
    "main()"
   ]
  }
 ],
 "metadata": {
  "language_info": {
   "name": "python"
  }
 },
 "nbformat": 4,
 "nbformat_minor": 2
}
