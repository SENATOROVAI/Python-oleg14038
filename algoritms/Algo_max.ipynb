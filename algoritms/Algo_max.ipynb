{
 "cells": [
  {
   "cell_type": "code",
   "execution_count": 9,
   "metadata": {},
   "outputs": [
    {
     "name": "stdout",
     "output_type": "stream",
     "text": [
      "3\n"
     ]
    }
   ],
   "source": [
    "x = [1, 2, 3] #список -  Структура данных  \n",
    "# алгритм поиска наибольшего значения \n",
    "# Алгоритм = последовательность действий, для выполнений задачи \n",
    "max_ = x[0]#Создали новую переменную max присвоивали к ей значение элемента с индксом ноль \n",
    "\n",
    "for num in x : #in оператор челенства \n",
    "                 # До : загаловок, после : тело инструкции \n",
    "    if num > max_:\n",
    "        max_= num\n",
    "print(max_) # Максимальный элемент 
   ]
  }
 ],
 "metadata": {
  "kernelspec": {
   "display_name": "Python 3",
   "language": "python",
   "name": "python3"
  },
  "language_info": {
   "codemirror_mode": {
    "name": "ipython",
    "version": 3
   },
   "file_extension": ".py",
   "mimetype": "text/x-python",
   "name": "python",
   "nbconvert_exporter": "python",
   "pygments_lexer": "ipython3",
   "version": "3.10.7"
  },
  "orig_nbformat": 4
 },
 "nbformat": 4,
 "nbformat_minor": 2
}
